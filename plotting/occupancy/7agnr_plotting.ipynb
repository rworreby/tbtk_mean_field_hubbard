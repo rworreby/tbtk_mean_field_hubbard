{
 "cells": [
  {
   "cell_type": "code",
   "execution_count": null,
   "metadata": {},
   "outputs": [],
   "source": [
    "from pythtb import * # import TB model class\n",
    "import numpy as np\n",
    "\n",
    "import matplotlib.pyplot as plt\n",
    "\n",
    "import ase\n",
    "import ase.io\n",
    "import ase.neighborlist\n",
    "import ase.visualize.plot"
   ]
  },
  {
   "cell_type": "code",
   "execution_count": null,
   "metadata": {},
   "outputs": [],
   "source": [
    "len_of_agnr = 2\n",
    "U_param = 19"
   ]
  },
  {
   "cell_type": "code",
   "execution_count": null,
   "metadata": {},
   "outputs": [],
   "source": [
    "file_name = \"../xyz_files/7agnr/7_AGNR_len_{}.xyz\".format(len_of_agnr)\n",
    "geom = ase.io.read(file_name)\n",
    "lat = [\n",
    "    [1.0,0.0],\n",
    "    [0.0,1.0]\n",
    "]\n",
    "geom.center(about=0.0)\n",
    "orb = []\n",
    "\n",
    "for at in geom:\n",
    "    orb.append(at.position[:2])\n",
    "    \n",
    "max_coord = np.max(orb)+1"
   ]
  },
  {
   "cell_type": "code",
   "execution_count": null,
   "metadata": {},
   "outputs": [],
   "source": [
    "p_results_file = \"../calculations/7agnr/processed_ev_7agnr{}_U{}.txt\".format(len_of_agnr, U_param)\n",
    "p_f = open(p_results_file, \"r\")\n",
    "\n",
    "p_num_lines = sum(1 for line in open(p_results_file, \"r\"))\n",
    "p_evals = np.zeros(p_num_lines, dtype=float)\n",
    "p_counter = 0\n",
    "\n",
    "for p_line in p_f:\n",
    "    p_spin = p_line[:1]\n",
    "    p_line = p_line[2:]\n",
    "\n",
    "    p_splitted_line = p_line.split(' ')\n",
    "\n",
    "    p_evals[p_counter] = np.float64(p_splitted_line[0])\n",
    "    p_counter = p_counter + 1"
   ]
  },
  {
   "cell_type": "code",
   "execution_count": null,
   "metadata": {},
   "outputs": [],
   "source": [
    "results_file = \"../calculations/7agnr/processed_ev_7agnr{}_U{}.txt\".format(len_of_agnr, U_param)\n",
    "f = open(results_file, \"r\")\n",
    "\n",
    "num_lines = sum(1 for line in open(results_file, \"r\"))\n",
    "print(\"Number of lines in file: \", num_lines)\n",
    "num_values_evecs = int(num_lines / 2)"
   ]
  },
  {
   "cell_type": "code",
   "execution_count": null,
   "metadata": {},
   "outputs": [],
   "source": [
    "evals = np.zeros(num_lines, dtype=float)\n",
    "occupancy = np.zeros(num_lines, dtype=float)\n",
    "evecs_shape = (num_lines, num_values_evecs)\n",
    "evecs = np.zeros(evecs_shape, dtype=complex)\n",
    "\n",
    "total_spin_up = np.zeros(int(num_lines/2), dtype=float)\n",
    "total_spin_down = np.zeros(int(num_lines/2), dtype=float)\n",
    "up_spins = 0\n",
    "down_spins = 0\n",
    "\n",
    "evals_up = np.full(int(num_lines/2), -100, dtype=float)\n",
    "evals_down = np.full(int(num_lines/2), -100, dtype=float)\n",
    "counter_up = 0\n",
    "counter_down = 0\n",
    "    \n",
    "counter = 0\n",
    "word_count = 0"
   ]
  },
  {
   "cell_type": "code",
   "execution_count": null,
   "metadata": {
    "scrolled": false
   },
   "outputs": [],
   "source": [
    "for line in f:\n",
    "    spin = int(line[:1])\n",
    "    line = line[2:]\n",
    "\n",
    "    splitted_line = line.split(' ')\n",
    "    \n",
    "    evals[counter] = np.float64(splitted_line[0])\n",
    "    occupancy[counter] = int(splitted_line[1])\n",
    "    \n",
    "    # print(\"eval: \", evals[counter])\n",
    "    # print(\"occ: \", occupancy[counter])\n",
    "    \n",
    "    splitted_line.pop(0)\n",
    "    splitted_line.pop(0)\n",
    "    \n",
    "    #print(\"occupancy: \", occupancy[counter])\n",
    "    if(spin == 1):\n",
    "        evals_up[counter_up] = evals[counter]\n",
    "        counter_up = counter_up + 1\n",
    "    elif(spin == 0):\n",
    "        evals_down[counter_down] = evals[counter]\n",
    "        counter_down = counter_down + 1\n",
    "    else:\n",
    "        print(\"Error.\")\n",
    "    \n",
    "    \n",
    "    x = ''\n",
    "    y = ''\n",
    "    y_turn = False\n",
    "    \n",
    "    #print(*splitted_line)\n",
    "    #print(\"len of splitted line:\", len(splitted_line))\n",
    "    for j in range(num_lines):\n",
    "        for i in splitted_line[j]:\n",
    "            if(i == '(' or i == ' '):\n",
    "                continue               \n",
    "            if(i != ',' and y_turn == False):\n",
    "                x += i\n",
    "            elif(i == ','):\n",
    "                y_turn = True\n",
    "                continue\n",
    "            elif(i != ')'):\n",
    "                y += i\n",
    "            else:\n",
    "                evecs[counter, word_count] = complex(float(x), float(y))\n",
    "                x = ''\n",
    "                y = ''\n",
    "                word_count = word_count + 1\n",
    "                y_turn = False\n",
    "\n",
    "\n",
    "    \n",
    "        \n",
    "    if occupancy[counter] == 0:\n",
    "        word_count = 0\n",
    "        counter = counter + 1\n",
    "        continue\n",
    "    elif occupancy[counter] == 1:\n",
    "        if(spin == 1):\n",
    "            up_spins = up_spins + 1\n",
    "            #rint(\"evecs[counter] = \", evecs[counter])\n",
    "            #print(\"np.square(evecs[counter]) = \", np.square(evecs[counter]))\n",
    "            #print(\"np.absolute(evecs[counter]) = \", np.absolute(evecs[counter]))\n",
    "            total_spin_up = np.add(total_spin_up, np.square(evecs[counter])) # replace absolute with square?\n",
    "        elif(spin == 0):\n",
    "            down_spins = down_spins + 1\n",
    "            total_spin_down = np.add(total_spin_down, np.square(evecs[counter])) # replace absolute with square?\n",
    "    else:\n",
    "        print(\"Error.\")\n",
    "\n",
    "    word_count = 0\n",
    "    counter = counter + 1\n",
    "    if counter == num_lines:\n",
    "        break\n",
    "\n",
    "        \n",
    "print(\"total up spins: \" + str(up_spins))\n",
    "print(\"total down spins: \" + str(down_spins))\n",
    "print(total_spin_up)\n",
    "print(total_spin_down)\n",
    "spin_difference = ((total_spin_up - total_spin_down))\n",
    "print(np.shape(spin_difference))\n",
    "print(spin_difference)\n",
    "\n",
    "print(\"evals spin up: \" + str(evals_up))\n",
    "print(\"evals spin down: \" + str(evals_down))"
   ]
  },
  {
   "cell_type": "code",
   "execution_count": null,
   "metadata": {},
   "outputs": [],
   "source": [
    "ed = num_lines//2\n",
    "print(num_lines, ed)\n",
    "homo = ed-1"
   ]
  },
  {
   "cell_type": "code",
   "execution_count": null,
   "metadata": {
    "scrolled": false
   },
   "outputs": [],
   "source": [
    "plt.plot(evals[ed-4:ed+4], 'o')\n",
    "plt.show()\n",
    "\n",
    "plt.plot(evals[ed-12:ed+12], 'o')\n",
    "plt.show()\n",
    "\n",
    "plt.plot(evals[:], 'o')\n",
    "plt.show()\n",
    "\n",
    "for ev in evals[0:38]:\n",
    "    print(ev)"
   ]
  },
  {
   "cell_type": "code",
   "execution_count": null,
   "metadata": {},
   "outputs": [],
   "source": [
    "def visualize_backbone(ax, atoms):\n",
    "    i_arr, j_arr = ase.neighborlist.neighbor_list('ij', atoms, 1.8)\n",
    "    for i, j in zip(i_arr, j_arr):\n",
    "        if i < j:\n",
    "            p1 = atoms.positions[i]\n",
    "            p2 = atoms.positions[j]\n",
    "            ax.plot([p1[0], p2[0]], [p1[1], p2[1]], 'k-', linewidth=2.0, solid_capstyle='round')\n",
    "            \n",
    "def visualize_evec(ax, atoms, evec):\n",
    "    for at, e in zip(atoms, evec):\n",
    "        p = at.position\n",
    "        mod = np.abs(e)\n",
    "        phase = np.angle(e)/np.pi\n",
    "        col = (1.0-phase, 0.0, phase)\n",
    "        circ = plt.Circle(p[:2], np.cbrt(mod), color=col, zorder=10)\n",
    "        ax.add_artist(circ)"
   ]
  },
  {
   "cell_type": "code",
   "execution_count": null,
   "metadata": {},
   "outputs": [],
   "source": [
    "fig=plt.figure(figsize=(6,6))\n",
    "ax = plt.gca()\n",
    "ax.set_aspect('equal')\n",
    "visualize_backbone(ax, geom)\n",
    "visualize_evec(ax, geom, spin_difference)\n",
    "plt.axis('off')\n",
    "\n",
    "\n",
    "#plt.xlim([-1, np.min([max_coord, 16.5])])\n",
    "\n",
    "plt.xlim([-1, max_coord])\n",
    "plt.ylim([-1, 8])\n",
    "\n",
    "path = \"../figures/figures_7agnr/U_to_t_{}\".format(U_param)\n",
    "fig_name = path + \"/spin_diff_7agnr{}_U{}.pdf\".format(len_of_agnr, U_param)\n",
    "#plt.savefig(fig_name, dpi=1000, bbox_inches='tight')"
   ]
  },
  {
   "cell_type": "code",
   "execution_count": null,
   "metadata": {},
   "outputs": [],
   "source": []
  }
 ],
 "metadata": {
  "kernelspec": {
   "display_name": "Python 3",
   "language": "python",
   "name": "python3"
  },
  "language_info": {
   "codemirror_mode": {
    "name": "ipython",
    "version": 3
   },
   "file_extension": ".py",
   "mimetype": "text/x-python",
   "name": "python",
   "nbconvert_exporter": "python",
   "pygments_lexer": "ipython3",
   "version": "3.8.2"
  }
 },
 "nbformat": 4,
 "nbformat_minor": 2
}
