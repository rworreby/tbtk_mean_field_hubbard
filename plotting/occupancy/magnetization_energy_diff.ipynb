{
 "cells": [
  {
   "cell_type": "code",
   "execution_count": null,
   "metadata": {},
   "outputs": [],
   "source": [
    "import numpy as np\n",
    "import pandas as pd\n",
    "\n",
    "import matplotlib.pyplot as plt\n",
    "import seaborn as sns"
   ]
  },
  {
   "cell_type": "code",
   "execution_count": null,
   "metadata": {},
   "outputs": [],
   "source": [
    "sns.set()\n",
    "#colors = sns.color_palette(\"PuBuGn_d\", n_colors=20)\n",
    "colors = sns.color_palette(\"coolwarm\", 13)\n",
    "colors = sns.cubehelix_palette(13, start=.5, rot=-.75)"
   ]
  },
  {
   "cell_type": "code",
   "execution_count": null,
   "metadata": {},
   "outputs": [],
   "source": [
    "path = \"../calculations/\"\n",
    "df = pd.read_csv(path+\"7agnr_scaling.csv\")"
   ]
  },
  {
   "cell_type": "code",
   "execution_count": null,
   "metadata": {},
   "outputs": [],
   "source": [
    "low_e_df = df[df['U'] < 2.0]\n",
    "high_e_df = df[df['U'] > 0.9]\n",
    "all_e_df = df"
   ]
  },
  {
   "cell_type": "code",
   "execution_count": null,
   "metadata": {
    "scrolled": true
   },
   "outputs": [],
   "source": [
    "print(df)"
   ]
  },
  {
   "cell_type": "markdown",
   "metadata": {},
   "source": [
    "## singlet/triplet difference\n",
    "\n",
    "y-axis: singlet-triplet diff\n",
    "x-axis: length"
   ]
  },
  {
   "cell_type": "code",
   "execution_count": null,
   "metadata": {},
   "outputs": [],
   "source": [
    "def plot_energy_diff(df_loc, energy):\n",
    "    multi_df = df_loc.copy()\n",
    "    multi_df.drop(columns='magnetization', inplace=True)\n",
    "    \n",
    "    multi_df.columns=['Length', 'M', 'U/t', 'Energy']\n",
    "    \n",
    "    multi_df.set_index(['M', 'U/t', 'Length'], inplace=True)\n",
    "    multi_df.sort_index(inplace=True)\n",
    "    \n",
    "    num_entries = int(len(df_loc)/2)\n",
    "    \n",
    "    energy_diffs = multi_df.diff(periods=num_entries)[num_entries:]\n",
    "    energy_diffs.reset_index(['M'], inplace=True)\n",
    "    energy_diffs.drop(columns='M', inplace=True)\n",
    "    \n",
    "    energy_df = energy_diffs.pivot_table('Energy', index='Length', columns='U/t')\n",
    "    energy_df.index.names = ['Length']\n",
    "    \n",
    "    energy_df.drop(energy_df.index[10:16], inplace=True)\n",
    "    #print(energy_df)\n",
    "    \n",
    "    fig, ax = plt.subplots()\n",
    "    ax.set_ylabel(\"Energy Difference\")\n",
    "    ax.set_xticks(np.arange(1,11))\n",
    "    energy_df.plot(figsize=(12,8), ax=ax, color=colors).legend(title='U/t', bbox_to_anchor=(1.0, 1.0))\n",
    "    # energy_df.plot(figsize=(12,8), title=f\"Singlet-Triplet Solution Difference for 7 AGNR with {energy} U\", ax=ax)\n",
    "    #plt.savefig(f\"../figures/figures_7agnr/singlet_triplet_{energy}_energy.pdf\")"
   ]
  },
  {
   "cell_type": "code",
   "execution_count": null,
   "metadata": {},
   "outputs": [],
   "source": [
    "plot_energy_diff(high_e_df[:474], \"all\")\n",
    "\n",
    "# plot_energy_diff(low_e_df, \"Low\")\n",
    "# plot_energy_diff(high_e_df, \"High\")"
   ]
  },
  {
   "cell_type": "code",
   "execution_count": null,
   "metadata": {},
   "outputs": [],
   "source": []
  },
  {
   "cell_type": "markdown",
   "metadata": {},
   "source": [
    "## total absolute magnetization vs varying U\n",
    "\n",
    "Vary length of ANGR"
   ]
  },
  {
   "cell_type": "code",
   "execution_count": null,
   "metadata": {},
   "outputs": [],
   "source": [
    "def plot_magnetization(df, multiplicity):\n",
    "    \n",
    "    mag_df = df\n",
    "    mag_df.drop(columns='energy', inplace=True)\n",
    "    \n",
    "    mag_df.columns=['Length', 'M', 'U/t', 'Magnetization']\n",
    "    \n",
    "    mag_df.set_index(['M', 'U/t', 'Length'], inplace=True)\n",
    "    mag_df.sort_index(inplace=True)\n",
    "    \n",
    "    num_entries = int(len(df)/2)\n",
    "    \n",
    "    mag_df = mag_df.pivot_table('Magnetization', index='U/t', columns='Length')\n",
    "    #print(mag_df)\n",
    "    fig, ax = plt.subplots()\n",
    "    ax.set_ylabel(\"Total Absolute Magnetization\")\n",
    "    ax.set_ylim(-1,21)\n",
    "    #ax.set_xlim(1.0,2.2)\n",
    "    # plt.xticks(labels=['1.0', '1.3', '1.6', '1.7', '1.8', '1.9'])\n",
    "    \n",
    "    mag_df.plot(figsize=(12,8), ax=ax, lw=2)\n",
    "    # mag_df.plot(figsize=(12,8), title=f\"7 AGNR Total Absolute Magnetization for {multiplicity} Solution\", ax=ax)\n",
    "    #plt.savefig(f\"../figures/figures_7agnr/{multiplicity}_magnetization.pdf\")"
   ]
  },
  {
   "cell_type": "code",
   "execution_count": null,
   "metadata": {
    "scrolled": false
   },
   "outputs": [],
   "source": [
    "mag_df = df.copy()\n",
    "mag_df = mag_df[mag_df['M'] == 1]\n",
    "mag_df = mag_df[mag_df['length'] < 8]\n",
    "plot_magnetization(mag_df, 'Singlet')\n",
    "\n",
    "mag_df = df.copy()\n",
    "mag_df = mag_df[mag_df['M'] == 3]\n",
    "mag_df = mag_df[mag_df['length'] < 8]\n",
    "plot_magnetization(mag_df, 'Triplet')"
   ]
  }
 ],
 "metadata": {
  "kernelspec": {
   "display_name": "Python 3",
   "language": "python",
   "name": "python3"
  },
  "language_info": {
   "codemirror_mode": {
    "name": "ipython",
    "version": 3
   },
   "file_extension": ".py",
   "mimetype": "text/x-python",
   "name": "python",
   "nbconvert_exporter": "python",
   "pygments_lexer": "ipython3",
   "version": "3.8.2"
  }
 },
 "nbformat": 4,
 "nbformat_minor": 4
}
