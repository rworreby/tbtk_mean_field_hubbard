{
 "cells": [
  {
   "cell_type": "code",
   "execution_count": null,
   "metadata": {},
   "outputs": [],
   "source": [
    "import numpy as np\n",
    "import pandas as pd\n",
    "\n",
    "import matplotlib.pyplot as plt\n",
    "import seaborn as sns"
   ]
  },
  {
   "cell_type": "code",
   "execution_count": null,
   "metadata": {},
   "outputs": [],
   "source": [
    "sns.set()\n",
    "#colors = sns.color_palette(\"PuBuGn_d\", n_colors=20)\n",
    "colors = sns.color_palette(\"coolwarm\", 13)\n",
    "colors = sns.cubehelix_palette(13, start=.5, rot=-.75)"
   ]
  },
  {
   "cell_type": "code",
   "execution_count": null,
   "metadata": {},
   "outputs": [],
   "source": [
    "path = \"../calculations/gnf/\"\n",
    "df = pd.read_csv(path+\"gnf_sw_u_scaling.csv\")"
   ]
  },
  {
   "cell_type": "code",
   "execution_count": null,
   "metadata": {},
   "outputs": [],
   "source": [
    "sorted_df = df.copy()\n",
    "sorted_vals = sorted_df.u.unique()\n",
    "print(sorted(sorted_vals), sep='\\n')"
   ]
  },
  {
   "cell_type": "code",
   "execution_count": null,
   "metadata": {
    "scrolled": true
   },
   "outputs": [],
   "source": [
    "print(df)"
   ]
  },
  {
   "cell_type": "markdown",
   "metadata": {},
   "source": [
    "## total absolute magnetization vs varying U\n",
    "\n",
    "Vary size of GNF"
   ]
  },
  {
   "cell_type": "code",
   "execution_count": null,
   "metadata": {},
   "outputs": [],
   "source": [
    "def plot_magnetization(df, multiplicity):\n",
    "    \n",
    "    mag_df = df\n",
    "    mag_df.drop(columns=['energy', 'multiplicity'], inplace=True)\n",
    "\n",
    "    df = mag_df.columns=['Size', 'U/t', 'Stone Wales', 'magnetization']\n",
    "    \n",
    "    mag_df.set_index(['Size', 'Stone Wales', 'U/t'], inplace=True)\n",
    "    mag_df.sort_index(inplace=True)\n",
    "    \n",
    "    # print(mag_df)\n",
    "    num_entries = int(len(df)/2)\n",
    "    \n",
    "    mag_df = mag_df.pivot_table('magnetization', index='U/t', columns=['Size', 'Stone Wales'])\n",
    "    #print(mag_df)\n",
    "    \n",
    "    fig, ax = plt.subplots()\n",
    "    ax.set_ylabel(\"Total Absolute Magnetization\")\n",
    "    ax.set_ylim(-1,21)\n",
    "    #ax.set_xlim(1.0,2.2)\n",
    "    # plt.xticks(labels=['1.0', '1.3', '1.6', '1.7', '1.8', '1.9'])\n",
    "    \n",
    "    mag_df.plot(figsize=(12,8), ax=ax, lw=2)\n",
    "    # mag_df.plot(figsize=(12,8), title=f\"7 AGNR Total Absolute Magnetization for {multiplicity} Solution\", ax=ax)\n",
    "    plt.savefig(f\"../figures/figures_gnf/{multiplicity}_magnetization.pdf\")"
   ]
  },
  {
   "cell_type": "code",
   "execution_count": null,
   "metadata": {
    "scrolled": false
   },
   "outputs": [],
   "source": [
    "mag_df = df.copy()\n",
    "plot_magnetization(mag_df, 'gnf_sw')"
   ]
  }
 ],
 "metadata": {
  "kernelspec": {
   "display_name": "Python 3",
   "language": "python",
   "name": "python3"
  },
  "language_info": {
   "codemirror_mode": {
    "name": "ipython",
    "version": 3
   },
   "file_extension": ".py",
   "mimetype": "text/x-python",
   "name": "python",
   "nbconvert_exporter": "python",
   "pygments_lexer": "ipython3",
   "version": "3.8.2"
  }
 },
 "nbformat": 4,
 "nbformat_minor": 4
}
