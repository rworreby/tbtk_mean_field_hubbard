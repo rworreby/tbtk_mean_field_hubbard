{
 "cells": [
  {
   "cell_type": "code",
   "execution_count": null,
   "metadata": {},
   "outputs": [],
   "source": [
    "from pythtb import * # import TB model class\n",
    "import numpy as np\n",
    "\n",
    "import matplotlib.pyplot as plt\n",
    "import seaborn as sns\n",
    "\n",
    "import ase\n",
    "import ase.io\n",
    "import ase.neighborlist\n",
    "import ase.visualize.plot\n",
    "\n",
    "sns_colors = sns.color_palette(n_colors=2)"
   ]
  },
  {
   "cell_type": "code",
   "execution_count": null,
   "metadata": {},
   "outputs": [],
   "source": [
    "gnf_size = 9"
   ]
  },
  {
   "cell_type": "code",
   "execution_count": null,
   "metadata": {},
   "outputs": [],
   "source": [
    "file_name = \"../xyz_files/gnf/gnf_size_{}x{}.xyz\".format(gnf_size, gnf_size)\n",
    "geom = ase.io.read(file_name)\n",
    "lat = [\n",
    "    [1.0,0.0],\n",
    "    [0.0,1.0]\n",
    "]\n",
    "geom.center(about=0.0)\n",
    "orb = []\n",
    "\n",
    "for at in geom:\n",
    "    orb.append(at.position[:2])\n",
    "    \n",
    "\n",
    "x_max, y_max = np.max(orb, axis=0)\n",
    "x_min, y_min = np.min(orb, axis=0)\n",
    "\n",
    "max_coord_x = x_max + 1\n",
    "min_coord_x = x_min - 1\n",
    "max_coord_y = y_max + 1\n",
    "min_coord_y = y_min - 1"
   ]
  },
  {
   "cell_type": "code",
   "execution_count": null,
   "metadata": {},
   "outputs": [],
   "source": [
    "def visualize_backbone(ax, atoms):\n",
    "    i_arr, j_arr = ase.neighborlist.neighbor_list('ij', atoms, 1.8)\n",
    "    for i, j in zip(i_arr, j_arr):\n",
    "        if i < j:\n",
    "            p1 = atoms.positions[i]\n",
    "            p2 = atoms.positions[j]\n",
    "            ax.plot([p1[0], p2[0]], [p1[1], p2[1]], 'k-', linewidth=2.0, solid_capstyle='round')"
   ]
  },
  {
   "cell_type": "code",
   "execution_count": null,
   "metadata": {
    "scrolled": false
   },
   "outputs": [],
   "source": [
    "fig=plt.figure(figsize=(15,15))\n",
    "ax = plt.gca()\n",
    "ax.set_aspect('equal')\n",
    "visualize_backbone(ax, geom)\n",
    "\n",
    "plt.axis('off')\n",
    "\n",
    "plt.xlim([min_coord_x, max_coord_x])\n",
    "plt.ylim([min_coord_y, max_coord_y])\n",
    "\n",
    "path = \"../figures/figures_gnf/\"\n",
    "fig_name = path + \"empty_gnf_{}x{}.pdf\".format(\n",
    "    gnf_size,\n",
    "    gnf_size,\n",
    ")\n",
    "\n",
    "plt.savefig(fig_name, dpi=1000, bbox_inches='tight')"
   ]
  }
 ],
 "metadata": {
  "kernelspec": {
   "display_name": "Python 3",
   "language": "python",
   "name": "python3"
  },
  "language_info": {
   "codemirror_mode": {
    "name": "ipython",
    "version": 3
   },
   "file_extension": ".py",
   "mimetype": "text/x-python",
   "name": "python",
   "nbconvert_exporter": "python",
   "pygments_lexer": "ipython3",
   "version": "3.8.2"
  }
 },
 "nbformat": 4,
 "nbformat_minor": 2
}
