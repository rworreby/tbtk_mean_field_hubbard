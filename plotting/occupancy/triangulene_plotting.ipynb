{
 "cells": [
  {
   "cell_type": "code",
   "execution_count": 1,
   "metadata": {},
   "outputs": [],
   "source": [
    "from pythtb import * # import TB model class\n",
    "import numpy as np\n",
    "\n",
    "import matplotlib.pyplot as plt\n",
    "\n",
    "import ase\n",
    "import ase.io\n",
    "import ase.neighborlist\n",
    "import ase.visualize.plot"
   ]
  },
  {
   "cell_type": "code",
   "execution_count": 2,
   "metadata": {},
   "outputs": [],
   "source": [
    "len_of_agnr = 2\n",
    "U_param = 19"
   ]
  },
  {
   "cell_type": "code",
   "execution_count": 3,
   "metadata": {},
   "outputs": [],
   "source": [
    "file_name = \"../xyz_files/7agnr/7_AGNR_len_{}.xyz\".format(len_of_agnr)\n",
    "geom = ase.io.read(file_name)\n",
    "lat = [\n",
    "    [1.0,0.0],\n",
    "    [0.0,1.0]\n",
    "]\n",
    "geom.center(about=0.0)\n",
    "orb = []\n",
    "\n",
    "for at in geom:\n",
    "    orb.append(at.position[:2])\n",
    "    \n",
    "max_coord = np.max(orb)+1"
   ]
  },
  {
   "cell_type": "code",
   "execution_count": 4,
   "metadata": {},
   "outputs": [],
   "source": [
    "p_results_file = \"../calculations/7agnr/processed_ev_7agnr{}_U{}.txt\".format(len_of_agnr, U_param)\n",
    "p_f = open(p_results_file, \"r\")\n",
    "\n",
    "p_num_lines = sum(1 for line in open(p_results_file, \"r\"))\n",
    "p_evals = np.zeros(p_num_lines, dtype=float)\n",
    "p_counter = 0\n",
    "\n",
    "for p_line in p_f:\n",
    "    p_spin = p_line[:1]\n",
    "    p_line = p_line[2:]\n",
    "\n",
    "    p_splitted_line = p_line.split(' ')\n",
    "\n",
    "    p_evals[p_counter] = np.float64(p_splitted_line[0])\n",
    "    p_counter = p_counter + 1"
   ]
  },
  {
   "cell_type": "code",
   "execution_count": 5,
   "metadata": {},
   "outputs": [
    {
     "name": "stdout",
     "output_type": "stream",
     "text": [
      "Number of lines in file:  56\n"
     ]
    }
   ],
   "source": [
    "results_file = \"../calculations/7agnr/processed_ev_7agnr{}_U{}.txt\".format(len_of_agnr, U_param)\n",
    "f = open(results_file, \"r\")\n",
    "\n",
    "num_lines = sum(1 for line in open(results_file, \"r\"))\n",
    "print(\"Number of lines in file: \", num_lines)\n",
    "num_values_evecs = int(num_lines / 2)"
   ]
  },
  {
   "cell_type": "code",
   "execution_count": 6,
   "metadata": {},
   "outputs": [],
   "source": [
    "evals = np.zeros(num_lines, dtype=float)\n",
    "occupancy = np.zeros(num_lines, dtype=float)\n",
    "evecs_shape = (num_lines, num_values_evecs)\n",
    "evecs = np.zeros(evecs_shape, dtype=complex)\n",
    "\n",
    "total_spin_up = np.zeros(int(num_lines/2), dtype=float)\n",
    "total_spin_down = np.zeros(int(num_lines/2), dtype=float)\n",
    "up_spins = 0\n",
    "down_spins = 0\n",
    "\n",
    "evals_up = np.full(int(num_lines/2), -100, dtype=float)\n",
    "evals_down = np.full(int(num_lines/2), -100, dtype=float)\n",
    "counter_up = 0\n",
    "counter_down = 0\n",
    "    \n",
    "counter = 0\n",
    "word_count = 0"
   ]
  },
  {
   "cell_type": "code",
   "execution_count": 7,
   "metadata": {
    "scrolled": false
   },
   "outputs": [
    {
     "name": "stdout",
     "output_type": "stream",
     "text": [
      "total up spins: 14\n",
      "total down spins: 14\n",
      "[0.49995373+0.j 0.49995275+0.j 0.49995373+0.j 0.50004443+0.j\n",
      " 0.49997803+0.j 0.50003272+0.j 0.49997942+0.j 0.50003272+0.j\n",
      " 0.49997942+0.j 0.50004443+0.j 0.49997803+0.j 0.50002286+0.j\n",
      " 0.5000241 +0.j 0.50002286+0.j 0.50002286+0.j 0.5000241 +0.j\n",
      " 0.50002286+0.j 0.49997803+0.j 0.50004443+0.j 0.49997942+0.j\n",
      " 0.50003272+0.j 0.49997942+0.j 0.50003272+0.j 0.49997803+0.j\n",
      " 0.50004443+0.j 0.49995373+0.j 0.49995275+0.j 0.49995373+0.j]\n",
      "[0.50004667+0.j 0.50004745+0.j 0.50004667+0.j 0.49995528+0.j\n",
      " 0.50002223+0.j 0.49996684+0.j 0.50002079+0.j 0.49996684+0.j\n",
      " 0.50002079+0.j 0.49995528+0.j 0.50002223+0.j 0.49997645+0.j\n",
      " 0.49997641+0.j 0.49997645+0.j 0.49997645+0.j 0.49997641+0.j\n",
      " 0.49997645+0.j 0.50002223+0.j 0.49995478+0.j 0.50002079+0.j\n",
      " 0.49996684+0.j 0.50002079+0.j 0.49996684+0.j 0.50002223+0.j\n",
      " 0.49995478+0.j 0.50004667+0.j 0.50004745+0.j 0.50004667+0.j]\n",
      "(28,)\n",
      "[-9.29381256e-05+0.j -9.47062090e-05+0.j -9.29381256e-05+0.j\n",
      "  8.91437376e-05+0.j -4.42077282e-05+0.j  6.58786789e-05+0.j\n",
      " -4.13713814e-05+0.j  6.58786789e-05+0.j -4.13713814e-05+0.j\n",
      "  8.91437376e-05+0.j -4.42077282e-05+0.j  4.64117138e-05+0.j\n",
      "  4.76887274e-05+0.j  4.64117138e-05+0.j  4.64117138e-05+0.j\n",
      "  4.76887274e-05+0.j  4.64117138e-05+0.j -4.42077042e-05+0.j\n",
      "  8.96437086e-05+0.j -4.13713394e-05+0.j  6.58786369e-05+0.j\n",
      " -4.13713394e-05+0.j  6.58786369e-05+0.j -4.42077042e-05+0.j\n",
      "  8.96437086e-05+0.j -9.29381256e-05+0.j -9.47062090e-05+0.j\n",
      " -9.29381256e-05+0.j]\n",
      "evals spin up: [-4.7297   -3.61743  -3.58676  -2.5413   -2.0192   -1.91054  -1.07088\n",
      " -0.99207  -0.431365 -0.135063 -0.135063  0.225499  0.662613  2.08615\n",
      "  3.04426   4.46758   4.90434   5.26494   5.26494   5.56151   6.12206\n",
      "  6.2008    7.0404    7.14924   7.67129   8.71667   8.74746   9.85963 ]\n",
      "evals spin down: [-4.72963  -3.61746  -3.58667  -2.54129  -2.01924  -1.9104   -1.0708\n",
      " -0.992055 -0.431512 -0.134937 -0.134937  0.225663  0.662415  2.08574\n",
      "  3.04385   4.46739   4.9045    5.26506   5.26506   5.56137   6.12207\n",
      "  6.20088   7.04054   7.1492    7.6713    8.71676   8.74743   9.8597  ]\n"
     ]
    }
   ],
   "source": [
    "for line in f:\n",
    "    spin = int(line[:1])\n",
    "    line = line[2:]\n",
    "\n",
    "    splitted_line = line.split(' ')\n",
    "    \n",
    "    evals[counter] = np.float64(splitted_line[0])\n",
    "    occupancy[counter] = int(splitted_line[1])\n",
    "    \n",
    "    # print(\"eval: \", evals[counter])\n",
    "    # print(\"occ: \", occupancy[counter])\n",
    "    \n",
    "    splitted_line.pop(0)\n",
    "    splitted_line.pop(0)\n",
    "    \n",
    "    #print(\"occupancy: \", occupancy[counter])\n",
    "    if(spin == 1):\n",
    "        evals_up[counter_up] = evals[counter]\n",
    "        counter_up = counter_up + 1\n",
    "    elif(spin == 0):\n",
    "        evals_down[counter_down] = evals[counter]\n",
    "        counter_down = counter_down + 1\n",
    "    else:\n",
    "        print(\"Error.\")\n",
    "    \n",
    "    \n",
    "    x = ''\n",
    "    y = ''\n",
    "    y_turn = False\n",
    "    \n",
    "    #print(*splitted_line)\n",
    "    #print(\"len of splitted line:\", len(splitted_line))\n",
    "    for j in range(num_lines):\n",
    "        for i in splitted_line[j]:\n",
    "            if(i == '(' or i == ' '):\n",
    "                continue               \n",
    "            if(i != ',' and y_turn == False):\n",
    "                x += i\n",
    "            elif(i == ','):\n",
    "                y_turn = True\n",
    "                continue\n",
    "            elif(i != ')'):\n",
    "                y += i\n",
    "            else:\n",
    "                evecs[counter, word_count] = complex(float(x), float(y))\n",
    "                x = ''\n",
    "                y = ''\n",
    "                word_count = word_count + 1\n",
    "                y_turn = False\n",
    "\n",
    "\n",
    "    \n",
    "        \n",
    "    if occupancy[counter] == 0:\n",
    "        word_count = 0\n",
    "        counter = counter + 1\n",
    "        continue\n",
    "    elif occupancy[counter] == 1:\n",
    "        if(spin == 1):\n",
    "            up_spins = up_spins + 1\n",
    "            #rint(\"evecs[counter] = \", evecs[counter])\n",
    "            #print(\"np.square(evecs[counter]) = \", np.square(evecs[counter]))\n",
    "            #print(\"np.absolute(evecs[counter]) = \", np.absolute(evecs[counter]))\n",
    "            total_spin_up = np.add(total_spin_up, np.square(evecs[counter])) # replace absolute with square?\n",
    "        elif(spin == 0):\n",
    "            down_spins = down_spins + 1\n",
    "            total_spin_down = np.add(total_spin_down, np.square(evecs[counter])) # replace absolute with square?\n",
    "    else:\n",
    "        print(\"Error.\")\n",
    "\n",
    "    word_count = 0\n",
    "    counter = counter + 1\n",
    "    if counter == num_lines:\n",
    "        break\n",
    "\n",
    "        \n",
    "print(\"total up spins: \" + str(up_spins))\n",
    "print(\"total down spins: \" + str(down_spins))\n",
    "print(total_spin_up)\n",
    "print(total_spin_down)\n",
    "spin_difference = ((total_spin_up - total_spin_down))\n",
    "print(np.shape(spin_difference))\n",
    "print(spin_difference)\n",
    "\n",
    "print(\"evals spin up: \" + str(evals_up))\n",
    "print(\"evals spin down: \" + str(evals_down))"
   ]
  },
  {
   "cell_type": "code",
   "execution_count": 8,
   "metadata": {},
   "outputs": [
    {
     "name": "stdout",
     "output_type": "stream",
     "text": [
      "56 28\n"
     ]
    }
   ],
   "source": [
    "ed = num_lines//2\n",
    "print(num_lines, ed)\n",
    "homo = ed-1"
   ]
  },
  {
   "cell_type": "code",
   "execution_count": 9,
   "metadata": {
    "scrolled": false
   },
   "outputs": [
    {
     "data": {
      "image/png": "[encoded data removed]",
      "text/plain": [
       "<Figure size 432x288 with 1 Axes>"
      ]
     },
     "metadata": {
      "needs_background": "light"
     },
     "output_type": "display_data"
    },
    {
     "data": {
      "image/png": "[encoded data removed]",
      "text/plain": [
       "<Figure size 432x288 with 1 Axes>"
      ]
     },
     "metadata": {
      "needs_background": "light"
     },
     "output_type": "display_data"
    },
    {
     "data": {
      "image/png": "[encoded data removed]",
      "text/plain": [
       "<Figure size 432x288 with 1 Axes>"
      ]
     },
     "metadata": {
      "needs_background": "light"
     },
     "output_type": "display_data"
    },
    {
     "name": "stdout",
     "output_type": "stream",
     "text": [
      "-4.7297\n",
      "-4.72963\n",
      "-3.61746\n",
      "-3.61743\n",
      "-3.58676\n",
      "-3.58667\n",
      "-2.5413\n",
      "-2.54129\n",
      "-2.01924\n",
      "-2.0192\n",
      "-1.91054\n",
      "-1.9104\n",
      "-1.07088\n",
      "-1.0708\n",
      "-0.99207\n",
      "-0.992055\n",
      "-0.431512\n",
      "-0.431365\n",
      "-0.135063\n",
      "-0.135063\n",
      "-0.134937\n",
      "-0.134937\n",
      "0.225499\n",
      "0.225663\n",
      "0.662415\n",
      "0.662613\n",
      "2.08574\n",
      "2.08615\n",
      "3.04385\n",
      "3.04426\n",
      "4.46739\n",
      "4.46758\n",
      "4.90434\n",
      "4.9045\n",
      "5.26494\n",
      "5.26494\n",
      "5.26506\n",
      "5.26506\n"
     ]
    }
   ],
   "source": [
    "plt.plot(evals[ed-4:ed+4], 'o')\n",
    "plt.show()\n",
    "\n",
    "plt.plot(evals[ed-12:ed+12], 'o')\n",
    "plt.show()\n",
    "\n",
    "plt.plot(evals[:], 'o')\n",
    "plt.show()\n",
    "\n",
    "for ev in evals[0:38]:\n",
    "    print(ev)"
   ]
  },
  {
   "cell_type": "code",
   "execution_count": 14,
   "metadata": {},
   "outputs": [],
   "source": [
    "def visualize_backbone(ax, atoms):\n",
    "    i_arr, j_arr = ase.neighborlist.neighbor_list('ij', atoms, 1.8)\n",
    "    for i, j in zip(i_arr, j_arr):\n",
    "        if i < j:\n",
    "            p1 = atoms.positions[i]\n",
    "            p2 = atoms.positions[j]\n",
    "            ax.plot([p1[0], p2[0]], [p1[1], p2[1]], 'k-', linewidth=2.0, solid_capstyle='round')\n",
    "            \n",
    "def visualize_evec(ax, atoms, evec):\n",
    "    for at, e in zip(atoms, evec):\n",
    "        p = at.position\n",
    "        mod = np.abs(e)\n",
    "        phase = np.angle(e)/np.pi\n",
    "        col = (1.0-phase, 0.0, phase)\n",
    "        circ = plt.Circle(p[:2], np.cbrt(mod), color=col, zorder=10)\n",
    "        ax.add_artist(circ)"
   ]
  },
  {
   "cell_type": "code",
   "execution_count": 15,
   "metadata": {},
   "outputs": [
    {
     "data": {
      "image/png": "[encoded data removed]",
      "text/plain": [
       "<Figure size 432x432 with 1 Axes>"
      ]
     },
     "metadata": {
      "needs_background": "light"
     },
     "output_type": "display_data"
    }
   ],
   "source": [
    "fig=plt.figure(figsize=(6,6))\n",
    "ax = plt.gca()\n",
    "ax.set_aspect('equal')\n",
    "visualize_backbone(ax, geom)\n",
    "visualize_evec(ax, geom, spin_difference)\n",
    "plt.axis('off')\n",
    "\n",
    "\n",
    "#plt.xlim([-1, np.min([max_coord, 16.5])])\n",
    "\n",
    "plt.xlim([-1, max_coord])\n",
    "plt.ylim([-1, 8])\n",
    "\n",
    "path = \"../figures/figures_7agnr/U_to_t_{}\".format(U_param)\n",
    "fig_name = path + \"/spin_diff_7agnr{}_U{}.pdf\".format(len_of_agnr, U_param)\n",
    "#plt.savefig(fig_name, dpi=1000, bbox_inches='tight')"
   ]
  },
  {
   "cell_type": "code",
   "execution_count": null,
   "metadata": {},
   "outputs": [],
   "source": []
  }
 ],
 "metadata": {
  "kernelspec": {
   "display_name": "Python 3",
   "language": "python",
   "name": "python3"
  },
  "language_info": {
   "codemirror_mode": {
    "name": "ipython",
    "version": 3
   },
   "file_extension": ".py",
   "mimetype": "text/x-python",
   "name": "python",
   "nbconvert_exporter": "python",
   "pygments_lexer": "ipython3",
   "version": "3.8.2"
  }
 },
 "nbformat": 4,
 "nbformat_minor": 2
}
