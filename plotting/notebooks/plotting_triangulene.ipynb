{
 "cells": [
  {
   "cell_type": "code",
   "execution_count": 1,
   "metadata": {},
   "outputs": [],
   "source": [
    "from pythtb import * # import TB model class\n",
    "import numpy as np\n",
    "\n",
    "import matplotlib.pyplot as plt\n",
    "\n",
    "import ase\n",
    "import ase.io\n",
    "import ase.neighborlist\n",
    "import ase.visualize.plot"
   ]
  },
  {
   "cell_type": "code",
   "execution_count": 2,
   "metadata": {},
   "outputs": [],
   "source": [
    "geom = ase.io.read(\"../xyz_files/phenalenyl.xyz\")\n",
    "lat = [\n",
    "    [1.0,0.0],\n",
    "    [0.0,1.0]\n",
    "]\n",
    "geom.center(about=0.0)\n",
    "orb = []\n",
    "\n",
    "for at in geom:\n",
    "    orb.append(at.position[:2])"
   ]
  },
  {
   "cell_type": "code",
   "execution_count": null,
   "metadata": {},
   "outputs": [],
   "source": []
  },
  {
   "cell_type": "code",
   "execution_count": 4,
   "metadata": {
    "scrolled": true
   },
   "outputs": [
    {
     "name": "stdout",
     "output_type": "stream",
     "text": [
      "66\n",
      "total up spins: 16\n",
      "total down spins: 18\n",
      "[0.50257875+0.j 0.48924524+0.j 0.51439769+0.j 0.48330127+0.j\n",
      " 0.51823648+0.j 0.49622186+0.j 0.34575159+0.j 0.34577708+0.j\n",
      " 0.52643258+0.j 0.63169258+0.j 0.49600152+0.j 0.45723837+0.j\n",
      " 0.50979767+0.j 0.50978516+0.j 0.49603753+0.j 0.50249067+0.j\n",
      " 0.63229941+0.j 0.49336427+0.j 0.51452571+0.j 0.49357339+0.j\n",
      " 0.44996076+0.j 0.5247837 +0.j 0.52642262+0.j 0.3455489 +0.j\n",
      " 0.52480192+0.j 0.39358175+0.j 0.53010586+0.j 0.39357741+0.j\n",
      " 0.51816709+0.j 0.34608298+0.j 0.48996546+0.j 0.5142485 +0.j\n",
      " 0.4840041 +0.j]\n",
      "[0.48244356+0.j 0.60752669+0.j 0.47344603+0.j 0.61065141+0.j\n",
      " 0.47476263+0.j 0.54333225+0.j 0.66182374+0.j 0.6604442 +0.j\n",
      " 0.47006599+0.j 0.64169356+0.j 0.48362777+0.j 0.5418964 +0.j\n",
      " 0.48276705+0.j 0.4827784 +0.j 0.5433196 +0.j 0.48248735+0.j\n",
      " 0.64163365+0.j 0.54481109+0.j 0.48004952+0.j 0.5448019 +0.j\n",
      " 0.54831558+0.j 0.47233275+0.j 0.47006778+0.j 0.66047495+0.j\n",
      " 0.47232367+0.j 0.61370718+0.j 0.46653554+0.j 0.61370989+0.j\n",
      " 0.4747961 +0.j 0.6618122 +0.j 0.60744984+0.j 0.47352496+0.j\n",
      " 0.6105829 +0.j]\n",
      "(33,)\n",
      "[-0.02013519+0.j  0.11828146+0.j -0.04095166+0.j  0.12735014+0.j\n",
      " -0.04347385+0.j  0.04711039+0.j  0.31607216+0.j  0.31466712+0.j\n",
      " -0.05636659+0.j  0.01000097+0.j -0.01237376+0.j  0.08465803+0.j\n",
      " -0.02703062+0.j -0.02700676+0.j  0.04728207+0.j -0.02000331+0.j\n",
      "  0.00933424+0.j  0.05144682+0.j -0.03447618+0.j  0.05122851+0.j\n",
      "  0.09835481+0.j -0.05245095+0.j -0.05635484+0.j  0.31492605+0.j\n",
      " -0.05247824+0.j  0.22012543+0.j -0.06357032+0.j  0.22013248+0.j\n",
      " -0.04337099+0.j  0.31572921+0.j  0.11748438+0.j -0.04072354+0.j\n",
      "  0.12657881+0.j]\n",
      "evals spin up: [-2.75508  -2.40041  -2.40031  -1.95123  -1.92649  -1.90855  -1.437228\n",
      " -1.428925 -1.412702 -1.337937 -1.025929 -1.022666 -1.015419 -0.832633\n",
      " -0.824703 -0.049221  0.075614  0.105618  0.81585   0.82584   0.97446\n",
      "  0.97998   0.98603   1.33289   1.39346   1.4087    1.42168   1.89336\n",
      "  1.91298   1.92132   2.37017   2.37157   2.7149  ]\n",
      "evals spin down: [-2.79082  -2.45269  -2.45005  -2.00027  -1.9934   -1.98917  -1.50702\n",
      " -1.483364 -1.482482 -1.430224 -1.065347 -1.057922 -1.050186 -0.911912\n",
      " -0.911657 -0.182573 -0.165958 -0.136068  0.73993   0.7417    0.93789\n",
      "  0.94589   0.95205   1.25012   1.32706   1.34694   1.34936   1.82857\n",
      "  1.83033   1.87069   2.31786   2.31982   2.67792 ]\n"
     ]
    }
   ],
   "source": [
    "f = open(\"../phenalenyl_ev.txt\",\"r\")\n",
    "#print(f.readline())\n",
    "\n",
    "chemical_potential = 0.625\n",
    "num_lines = sum(1 for line in open('../phenalenyl_ev.txt', \"r\"))\n",
    "print(num_lines)\n",
    "num_values_evecs = int(num_lines / 2)\n",
    "\n",
    "evals = np.zeros(num_lines, dtype=float)\n",
    "evecs_shape = (num_lines, num_values_evecs)\n",
    "evecs = np.zeros(evecs_shape, dtype=complex)\n",
    "\n",
    "total_spin_up = np.zeros(int(num_lines/2), dtype=float)\n",
    "total_spin_down = np.zeros(int(num_lines/2), dtype=float)\n",
    "up_spins = 0\n",
    "down_spins = 0\n",
    "\n",
    "\n",
    "evals_up = np.zeros(num_values_evecs, dtype=float)\n",
    "evals_down = np.zeros(num_values_evecs, dtype=float)\n",
    "counter_up = 0\n",
    "counter_down = 0\n",
    "    \n",
    "    \n",
    "counter = 0\n",
    "word_count = 0\n",
    "for line in f:\n",
    "    #if(counter == 39):\n",
    "     #   print(\"Line: \" + str(counter))\n",
    "      #  print(line[:3])\n",
    "       # print(line)\n",
    "        \n",
    "    spin = line[:2]\n",
    "\n",
    "    line = line[3:]\n",
    "\n",
    "    splitted_line = line.split(' ')\n",
    "\n",
    "    evals[counter] = np.float64(splitted_line[0])\n",
    "    \n",
    "    if(spin == 'su'):\n",
    "        evals_up[counter_up] = evals[counter] - chemical_potential\n",
    "        counter_up = counter_up + 1\n",
    "    if(spin == 'sd'):\n",
    "        evals_down[counter_down] = evals[counter] - chemical_potential\n",
    "        counter_down = counter_down + 1\n",
    "    \n",
    "    #print(\"spin: \" + str(spin) + \"\\teval: \" + str(evals[counter]))\n",
    "    splitted_line.pop(0)\n",
    "    \n",
    "    x = ''\n",
    "    y = ''\n",
    "    y_turn = False\n",
    "    \n",
    "    for j in range(len(splitted_line)):    \n",
    "        for i in splitted_line[j]:\n",
    "            if(i == '(' or i == ' '):\n",
    "                continue\n",
    "            if(i != ',' and y_turn == False):\n",
    "                x += i\n",
    "            elif(i == ','):\n",
    "                y_turn = True\n",
    "                continue\n",
    "            elif(i != ')'):\n",
    "                y += i\n",
    "            else:\n",
    "                evecs[counter, word_count] = complex(float(x), float(y))\n",
    "                x = ''\n",
    "                y = ''\n",
    "                word_count = word_count + 1\n",
    "                y_turn = False\n",
    "\n",
    "\n",
    "    word_count = 0\n",
    "    counter = counter + 1\n",
    "    \n",
    "    if(spin == 'su'):\n",
    "        if(chemical_potential > evals[counter-1]):\n",
    "            up_spins = up_spins + 1\n",
    "            total_spin_up = np.add(total_spin_up, np.square(evecs[counter-1]))\n",
    "    if(spin == 'sd'):\n",
    "        if(chemical_potential > evals[counter-1]):\n",
    "            down_spins = down_spins + 1\n",
    "            total_spin_down = np.add(total_spin_down, np.square(evecs[counter-1]))\n",
    "\n",
    "print(\"total up spins: \" + str(up_spins))\n",
    "print(\"total down spins: \" + str(down_spins))\n",
    "print(total_spin_up)\n",
    "print(total_spin_down)\n",
    "spin_difference = ((total_spin_down - total_spin_up))\n",
    "print(np.shape(spin_difference))\n",
    "print(spin_difference)\n",
    "\n",
    "print(\"evals spin up: \" + str(evals_up))\n",
    "print(\"evals spin down: \" + str(evals_down))"
   ]
  },
  {
   "cell_type": "code",
   "execution_count": 5,
   "metadata": {},
   "outputs": [
    {
     "name": "stdout",
     "output_type": "stream",
     "text": [
      "66 33\n"
     ]
    }
   ],
   "source": [
    "ed = num_lines//2\n",
    "print(num_lines, ed)\n",
    "homo = ed-1"
   ]
  },
  {
   "cell_type": "code",
   "execution_count": 6,
   "metadata": {},
   "outputs": [
    {
     "data": {
      "image/png": "[encoded data removed]",
      "text/plain": [
       "<Figure size 432x288 with 1 Axes>"
      ]
     },
     "metadata": {
      "needs_background": "light"
     },
     "output_type": "display_data"
    },
    {
     "data": {
      "image/png": "[encoded data removed]",
      "text/plain": [
       "<Figure size 432x288 with 1 Axes>"
      ]
     },
     "metadata": {
      "needs_background": "light"
     },
     "output_type": "display_data"
    },
    {
     "data": {
      "image/png": "[encoded data removed]",
      "text/plain": [
       "<Figure size 432x288 with 1 Axes>"
      ]
     },
     "metadata": {
      "needs_background": "light"
     },
     "output_type": "display_data"
    },
    {
     "name": "stdout",
     "output_type": "stream",
     "text": [
      "-0.199703\n",
      "0.442427\n",
      "0.459042\n",
      "0.488932\n",
      "0.575779\n",
      "0.700614\n",
      "0.730618\n",
      "1.36493\n"
     ]
    }
   ],
   "source": [
    "plt.plot(evals[ed-4:ed+4], 'o')\n",
    "plt.show()\n",
    "\n",
    "plt.plot(evals[ed-12:ed+12], 'o')\n",
    "plt.show()\n",
    "\n",
    "plt.plot(evals[:], 'o')\n",
    "plt.show()\n",
    "\n",
    "\n",
    "for ev in evals[ed-4:ed+4]:\n",
    "    print(ev)\n",
    "\n"
   ]
  },
  {
   "cell_type": "code",
   "execution_count": 7,
   "metadata": {},
   "outputs": [],
   "source": [
    "def visualize_backbone(ax, atoms):\n",
    "    i_arr, j_arr = ase.neighborlist.neighbor_list('ij', atoms, 1.8)\n",
    "    for i, j in zip(i_arr, j_arr):\n",
    "        if i < j:\n",
    "            p1 = atoms.positions[i]\n",
    "            p2 = atoms.positions[j]\n",
    "            ax.plot([p1[0], p2[0]], [p1[1], p2[1]], 'k-', linewidth=3.0, solid_capstyle='round')\n",
    "            \n",
    "def visualize_evec(ax, atoms, evec):\n",
    "    for at, e in zip(atoms, evec):\n",
    "        p = at.position\n",
    "        mod = np.abs(e)\n",
    "        phase = np.angle(e)/np.pi\n",
    "        col = (1.0-phase, 0.0, phase)\n",
    "        circ = plt.Circle(p[:2], np.cbrt(mod), color=col, zorder=10)\n",
    "        ax.add_artist(circ)"
   ]
  },
  {
   "cell_type": "code",
   "execution_count": 10,
   "metadata": {},
   "outputs": [
    {
     "data": {
      "image/png": "[encoded data removed]",
      "text/plain": [
       "<Figure size 432x432 with 1 Axes>"
      ]
     },
     "metadata": {
      "needs_background": "light"
     },
     "output_type": "display_data"
    }
   ],
   "source": [
    "fig=plt.figure(figsize=(6,6))\n",
    "ax = plt.gca()\n",
    "ax.set_aspect('equal')\n",
    "visualize_backbone(ax, geom)\n",
    "visualize_evec(ax, geom, spin_difference)\n",
    "plt.axis('off')\n",
    "plt.xlim([-5, 5])\n",
    "plt.ylim([-5, 5])\n",
    "\n",
    "plt.savefig(\"../figures_phenalenyl/spin_diff.png\", dpi=300, bbox_inches='tight')"
   ]
  },
  {
   "cell_type": "markdown",
   "metadata": {
    "scrolled": true
   },
   "source": []
  },
  {
   "cell_type": "code",
   "execution_count": 18,
   "metadata": {},
   "outputs": [
    {
     "data": {
      "image/png": "[encoded data removed]",
      "text/plain": [
       "<Figure size 432x432 with 1 Axes>"
      ]
     },
     "metadata": {
      "needs_background": "light"
     },
     "output_type": "display_data"
    },
    {
     "data": {
      "image/png": "[encoded data removed]",
      "text/plain": [
       "<Figure size 432x432 with 1 Axes>"
      ]
     },
     "metadata": {
      "needs_background": "light"
     },
     "output_type": "display_data"
    },
    {
     "data": {
      "image/png": "[encoded data removed]",
      "text/plain": [
       "<Figure size 432x432 with 1 Axes>"
      ]
     },
     "metadata": {
      "needs_background": "light"
     },
     "output_type": "display_data"
    },
    {
     "data": {
      "image/png": "[encoded data removed]",
      "text/plain": [
       "<Figure size 432x432 with 1 Axes>"
      ]
     },
     "metadata": {
      "needs_background": "light"
     },
     "output_type": "display_data"
    }
   ],
   "source": [
    "for ind in range(ed-2,ed+2):\n",
    "    fig=plt.figure(figsize=(6,6))\n",
    "    ax = plt.gca()\n",
    "    ax.set_aspect('equal')\n",
    "    visualize_backbone(ax, geom)\n",
    "    visualize_evec(ax, geom, evecs[ind,:])\n",
    "    plt.axis('off')\n",
    "    xmin = np.min(geom.positions[:, 0])-2.0\n",
    "    xmax = np.max(geom.positions[:, 0])+2.0\n",
    "    ymin = np.min(geom.positions[:, 1])-2.0\n",
    "    ymax = np.max(geom.positions[:, 1])+4.0\n",
    "    plt.xlim([xmin, xmax])\n",
    "    plt.xlim([ymin, ymax])\n",
    "    plt.text(xmin+2.0, ymin, \"E = %.2f eV\" % evals[ind], fontsize=20)\n",
    "    plt.savefig(\"../figures_phenalenyl/orb_%d_%d.png\" % (ind, ind-homo), dpi=300, bbox_inches='tight')"
   ]
  },
  {
   "cell_type": "code",
   "execution_count": 21,
   "metadata": {},
   "outputs": [
    {
     "name": "stdout",
     "output_type": "stream",
     "text": [
      "Down spin ev: -2.79082\n",
      "Down spin ev: -2.45269\n",
      "Down spin ev: -2.45005\n",
      "Down spin ev: -2.00027\n",
      "Down spin ev: -1.9934\n",
      "Down spin ev: -1.98917\n",
      "Down spin ev: -1.50702\n",
      "Down spin ev: -1.483364\n",
      "Down spin ev: -1.482482\n",
      "Down spin ev: -1.430224\n",
      "Down spin ev: -1.065347\n",
      "Down spin ev: -1.057922\n",
      "Down spin ev: -1.050186\n",
      "Down spin ev: -0.9119120000000001\n",
      "Down spin ev: -0.9116569999999999\n",
      "Down spin ev: -0.18257299999999999\n",
      "Down spin ev: -0.165958\n",
      "Down spin ev: -0.13606800000000002\n",
      "Up spin ev: -2.75508\n",
      "Up spin ev: -2.40041\n",
      "Up spin ev: -2.40031\n",
      "Up spin ev: -1.95123\n",
      "Up spin ev: -1.92649\n",
      "Up spin ev: -1.90855\n",
      "Up spin ev: -1.437228\n",
      "Up spin ev: -1.428925\n",
      "Up spin ev: -1.412702\n",
      "Up spin ev: -1.3379370000000002\n",
      "Up spin ev: -1.025929\n",
      "Up spin ev: -1.022666\n",
      "Up spin ev: -1.015419\n",
      "Up spin ev: -0.832633\n",
      "Up spin ev: -0.824703\n",
      "Up spin ev: -0.04922099999999996\n"
     ]
    },
    {
     "data": {
      "image/png": "[encoded data removed]",
      "text/plain": [
       "<Figure size 432x864 with 2 Axes>"
      ]
     },
     "metadata": {
      "needs_background": "light"
     },
     "output_type": "display_data"
    }
   ],
   "source": [
    "chemical_potential = 0.625\n",
    "past_ev = -100\n",
    "\n",
    "\n",
    "fig = plt.figure(figsize=(6, 12))\n",
    "plt.subplot(121)\n",
    "ax = plt.gca()\n",
    "for ev in evals_down:\n",
    "    col = 'blue'\n",
    "    if ev < 0.0:\n",
    "        col = 'red'\n",
    "        print(\"Down spin ev: \" + str(ev))\n",
    "    if(ev > past_ev + 0.001):\n",
    "        plt.plot([0.55, 0.9], [ev, ev], '-', color=col, lw=3.0, solid_capstyle='round')\n",
    "    else:\n",
    "        plt.plot([0.1, 0.45], [ev, ev], '-', color=col, lw=3.0, solid_capstyle='round')\n",
    "    past_ev = ev\n",
    "\n",
    "\n",
    "ax.get_xaxis().set_visible(False)\n",
    "ax.spines['right'].set_visible(False)\n",
    "ax.spines['top'].set_visible(False)\n",
    "ax.spines['bottom'].set_visible(False)\n",
    "plt.xlim(0.0, 1.0)\n",
    "plt.ylim(-1.8, 1.8)\n",
    "plt.ylabel(\"Energy (eV)\")\n",
    "\n",
    "###\n",
    "\n",
    "plt.subplot(122)\n",
    "ax = plt.gca()\n",
    "for ev in evals_up:\n",
    "    \n",
    "    col = 'blue'\n",
    "    if ev < 0.0:\n",
    "        col = 'red'\n",
    "        print(\"Up spin ev: \" + str(ev))\n",
    "    if(ev > past_ev + 0.005):\n",
    "        plt.plot([0.1, 0.45], [ev, ev], '-', color=col, lw=3.0, solid_capstyle='round')\n",
    "    else:\n",
    "        plt.plot([0.55, 0.9], [ev, ev], '-', color=col, lw=3.0, solid_capstyle='round')\n",
    "    past_ev = ev\n",
    "    \n",
    "ax.get_xaxis().set_visible(False)\n",
    "ax.spines['right'].set_visible(False)\n",
    "ax.spines['top'].set_visible(False)\n",
    "ax.spines['bottom'].set_visible(False)\n",
    "plt.xlim(0.0, 1.0)\n",
    "plt.ylim(-1.8, 1.8)\n",
    "#plt.ylabel(\"Energy (eV)\")\n",
    "\n",
    "plt.savefig(\"../figures_phenalenyl/spin_eigenvalues.png\", dpi=300, bbox_inches='tight')\n",
    "\n"
   ]
  },
  {
   "cell_type": "code",
   "execution_count": 13,
   "metadata": {},
   "outputs": [
    {
     "data": {
      "image/png": "[encoded data removed]",
      "text/plain": [
       "<Figure size 144x864 with 1 Axes>"
      ]
     },
     "metadata": {
      "needs_background": "light"
     },
     "output_type": "display_data"
    }
   ],
   "source": [
    "fig = plt.figure(figsize=(2, 12))\n",
    "ax = plt.gca()\n",
    "for ev in evals[ed-ed:ed*2]:\n",
    "    col = 'blue'\n",
    "    if ev < 0.0:\n",
    "        col = 'red'\n",
    "    plt.plot([0.1, 0.9], [ev, ev], '-', color=col, lw=3.0, solid_capstyle='round')\n",
    "    \n",
    "ax.get_xaxis().set_visible(False)\n",
    "ax.spines['right'].set_visible(False)\n",
    "ax.spines['top'].set_visible(False)\n",
    "ax.spines['bottom'].set_visible(False)\n",
    "plt.xlim(0.0, 1.0)\n",
    "plt.ylim(-3.0, 3.0)\n",
    "plt.ylabel(\"Energy (eV)\")\n",
    "#plt.savefig(\"../figures/phenalenyl/levels.png\", dpi=300, bbox_inches='tight')"
   ]
  },
  {
   "cell_type": "code",
   "execution_count": null,
   "metadata": {},
   "outputs": [],
   "source": []
  },
  {
   "cell_type": "code",
   "execution_count": null,
   "metadata": {},
   "outputs": [],
   "source": []
  }
 ],
 "metadata": {
  "kernelspec": {
   "display_name": "Python 3",
   "language": "python",
   "name": "python3"
  },
  "language_info": {
   "codemirror_mode": {
    "name": "ipython",
    "version": 3
   },
   "file_extension": ".py",
   "mimetype": "text/x-python",
   "name": "python",
   "nbconvert_exporter": "python",
   "pygments_lexer": "ipython3",
   "version": "3.7.3"
  }
 },
 "nbformat": 4,
 "nbformat_minor": 2
}
