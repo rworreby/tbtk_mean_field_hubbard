{
 "cells": [
  {
   "cell_type": "code",
   "execution_count": 2,
   "metadata": {},
   "outputs": [],
   "source": [
    "from pythtb import * # import TB model class\n",
    "import numpy as np\n",
    "\n",
    "import matplotlib.pyplot as plt\n",
    "\n",
    "import ase\n",
    "import ase.io\n",
    "import ase.neighborlist\n",
    "import ase.visualize.plot"
   ]
  },
  {
   "cell_type": "code",
   "execution_count": 3,
   "metadata": {},
   "outputs": [],
   "source": [
    "geom = ase.io.read(\"./clars_goblet.xyz\")"
   ]
  },
  {
   "cell_type": "code",
   "execution_count": 4,
   "metadata": {},
   "outputs": [],
   "source": [
    "i_arr, j_arr = ase.neighborlist.neighbor_list('ij', geom, 1.8)"
   ]
  },
  {
   "cell_type": "code",
   "execution_count": 5,
   "metadata": {},
   "outputs": [],
   "source": [
    "lat = [\n",
    "    [1.0,0.0],\n",
    "    [0.0,1.0]\n",
    "]"
   ]
  },
  {
   "cell_type": "code",
   "execution_count": 6,
   "metadata": {},
   "outputs": [],
   "source": [
    "geom.center(about=0.0)"
   ]
  },
  {
   "cell_type": "code",
   "execution_count": 7,
   "metadata": {},
   "outputs": [],
   "source": [
    "orb = []\n",
    "for at in geom:\n",
    "    orb.append(at.position[:2])"
   ]
  },
  {
   "cell_type": "code",
   "execution_count": 8,
   "metadata": {},
   "outputs": [],
   "source": [
    "my_model=tb_model(0,2,lat,orb)\n",
    "\n",
    "t=-2.8"
   ]
  },
  {
   "cell_type": "code",
   "execution_count": 9,
   "metadata": {},
   "outputs": [
    {
     "data": {
      "image/png": "[encoded data removed]",
      "text/plain": [
       "<Figure size 432x432 with 1 Axes>"
      ]
     },
     "metadata": {
      "needs_background": "light"
     },
     "output_type": "display_data"
    }
   ],
   "source": [
    "for i_at, j_at in zip(i_arr, j_arr):\n",
    "    if i_at < j_at:\n",
    "        my_model.set_hop(t, i_at, j_at)\n",
    "            \n",
    "my_model.visualize(0, 1)\n",
    "plt.show()"
   ]
  },
  {
   "cell_type": "code",
   "execution_count": null,
   "metadata": {},
   "outputs": [],
   "source": []
  },
  {
   "cell_type": "markdown",
   "metadata": {},
   "source": [
    "# Solve"
   ]
  },
  {
   "cell_type": "code",
   "execution_count": null,
   "metadata": {},
   "outputs": [],
   "source": []
  },
  {
   "cell_type": "code",
   "execution_count": 12,
   "metadata": {},
   "outputs": [
    {
     "name": "stdout",
     "output_type": "stream",
     "text": [
      "type of evals: <class 'numpy.ndarray'>\n",
      "shape of evals: (38,)\n",
      "type of evecs: <class 'numpy.ndarray'>\n",
      "shape of evecs: (38, 38)\n",
      "38 19\n"
     ]
    }
   ],
   "source": [
    "(evals,evecs)=my_model.solve_all(eig_vectors=True)\n",
    "\n",
    "print(\"type of evals: \" + str(type(evals)))\n",
    "print(\"shape of evals: \" + str(np.shape(evals)))\n",
    "print(\"type of evecs: \" + str(type(evecs)))\n",
    "print(\"shape of evecs: \" + str(np.shape(evecs)))\n",
    "ed = my_model.get_num_orbitals()//2\n",
    "print(my_model.get_num_orbitals(), ed)\n",
    "homo = ed-1"
   ]
  },
  {
   "cell_type": "code",
   "execution_count": null,
   "metadata": {},
   "outputs": [],
   "source": [
    "plt.plot(evals[ed-6:ed+6], 'o')\n",
    "plt.show()\n",
    "for ev in evals[ed-4:ed+4]:\n",
    "    print(ev)"
   ]
  },
  {
   "cell_type": "code",
   "execution_count": null,
   "metadata": {},
   "outputs": [],
   "source": [
    "def visualize_backbone(ax, atoms):\n",
    "    i_arr, j_arr = ase.neighborlist.neighbor_list('ij', atoms, 1.8)\n",
    "    for i, j in zip(i_arr, j_arr):\n",
    "        if i < j:\n",
    "            p1 = atoms.positions[i]\n",
    "            p2 = atoms.positions[j]\n",
    "            ax.plot([p1[0], p2[0]], [p1[1], p2[1]], 'k-', linewidth=3.0, solid_capstyle='round')\n",
    "            \n",
    "def visualize_evec(ax, atoms, evec):\n",
    "    for at, e in zip(atoms, evec):\n",
    "        p = at.position\n",
    "        mod = np.abs(e)\n",
    "        phase = np.angle(e)/np.pi\n",
    "        col = (1.0-phase, 0.0, phase)\n",
    "        circ = plt.Circle(p[:2], mod, color=col, zorder=10)\n",
    "        ax.add_artist(circ)"
   ]
  },
  {
   "cell_type": "code",
   "execution_count": null,
   "metadata": {
    "scrolled": true
   },
   "outputs": [],
   "source": [
    "for ind in range(ed-4, ed+4):\n",
    "    fig=plt.figure(figsize=(6,6))\n",
    "    ax = plt.gca()\n",
    "    ax.set_aspect('equal')\n",
    "    visualize_backbone(ax, geom)\n",
    "    visualize_evec(ax, geom, evecs[ind,:])\n",
    "    plt.axis('off')\n",
    "    xmin = np.min(geom.positions[:, 0])-0.7\n",
    "    xmax = np.max(geom.positions[:, 0])+0.7\n",
    "    ymin = np.min(geom.positions[:, 1])+0.2\n",
    "    ymax = np.max(geom.positions[:, 1])+0.2\n",
    "    plt.xlim([xmin, xmax])\n",
    "    plt.text(xmin+1.0, ymin-0.6, \"E = %.2f eV\" % evals[ind], fontsize=20)\n",
    "    plt.savefig(\"./fig_5-5/orb_%d_%d.png\" % (ind, ind-homo), dpi=300, bbox_inches='tight')"
   ]
  },
  {
   "cell_type": "code",
   "execution_count": null,
   "metadata": {},
   "outputs": [],
   "source": [
    "fig = plt.figure(figsize=(2, 12))\n",
    "ax = plt.gca()\n",
    "for ev in evals[ed-3:ed+3]:\n",
    "    col = 'blue'\n",
    "    if ev < 0.0:\n",
    "        col = 'red'\n",
    "    plt.plot([0.1, 0.9], [ev, ev], '-', color=col, lw=3.0, solid_capstyle='round')\n",
    "    \n",
    "ax.get_xaxis().set_visible(False)\n",
    "ax.spines['right'].set_visible(False)\n",
    "ax.spines['top'].set_visible(False)\n",
    "ax.spines['bottom'].set_visible(False)\n",
    "plt.xlim(0.0, 1.0)\n",
    "plt.ylim(-3.0, 3.0)\n",
    "plt.ylabel(\"Energy (eV)\")\n",
    "plt.savefig(\"./levels.png\", dpi=300, bbox_inches='tight')"
   ]
  },
  {
   "cell_type": "code",
   "execution_count": null,
   "metadata": {},
   "outputs": [],
   "source": []
  }
 ],
 "metadata": {
  "kernelspec": {
   "display_name": "Python 3",
   "language": "python",
   "name": "python3"
  },
  "language_info": {
   "codemirror_mode": {
    "name": "ipython",
    "version": 3
   },
   "file_extension": ".py",
   "mimetype": "text/x-python",
   "name": "python",
   "nbconvert_exporter": "python",
   "pygments_lexer": "ipython3",
   "version": "3.7.3"
  }
 },
 "nbformat": 4,
 "nbformat_minor": 2
}
