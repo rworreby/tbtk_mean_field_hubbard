{
 "cells": [
  {
   "cell_type": "code",
   "execution_count": 7,
   "metadata": {},
   "outputs": [],
   "source": [
    "from pythtb import * # import TB model class\n",
    "import numpy as np\n",
    "\n",
    "import matplotlib.pyplot as plt\n",
    "\n",
    "import ase\n",
    "import ase.io\n",
    "import ase.neighborlist\n",
    "import ase.visualize.plot"
   ]
  },
  {
   "cell_type": "code",
   "execution_count": 8,
   "metadata": {},
   "outputs": [],
   "source": [
    "geom = ase.io.read(\"../xyz_files/clars_goblet.xyz\")\n",
    "lat = [\n",
    "    [1.0,0.0],\n",
    "    [0.0,1.0]\n",
    "]\n",
    "geom.center(about=0.0)\n",
    "orb = []\n",
    "\n",
    "for at in geom:\n",
    "    orb.append(at.position[:2])"
   ]
  },
  {
   "cell_type": "code",
   "execution_count": 16,
   "metadata": {
    "scrolled": true
   },
   "outputs": [
    {
     "name": "stdout",
     "output_type": "stream",
     "text": [
      "77\n",
      "total up spins: 20\n",
      "total down spins: 20\n",
      "[0.49619807+0.j 0.53191194+0.j 0.49619919+0.j 0.4961946 +0.j\n",
      " 0.53191447+0.j 0.49598597+0.j 0.50910046+0.j 0.49505674+0.j\n",
      " 0.53220945+0.j 0.4961952 +0.j 0.53220655+0.j 0.49505823+0.j\n",
      " 0.50910028+0.j 0.53220132+0.j 0.49506013+0.j 0.50909803+0.j\n",
      " 0.49598706+0.j 0.53220327+0.j 0.49505806+0.j 0.50909945+0.j\n",
      " 0.57526368+0.j 0.49138788+0.j 0.57662501+0.j 0.49192317+0.j\n",
      " 0.49192444+0.j 0.63658265+0.j 0.57526074+0.j 0.49138942+0.j\n",
      " 0.57662123+0.j 0.49192528+0.j 0.576621  +0.j 0.49139231+0.j\n",
      " 0.57525791+0.j 0.49192524+0.j 0.63658402+0.j 0.57526385+0.j\n",
      " 0.49138843+0.j 0.5766235 +0.j]\n",
      "[0.50380342+0.j 0.52886054+0.j 0.50380159+0.j 0.5038062 +0.j\n",
      " 0.52885844+0.j 0.50408641+0.j 0.50604339+0.j 0.50497619+0.j\n",
      " 0.5285895 +0.j 0.50380561+0.j 0.52859207+0.j 0.50497474+0.j\n",
      " 0.50604433+0.j 0.52859717+0.j 0.50497328+0.j 0.50604551+0.j\n",
      " 0.5040847 +0.j 0.52859481+0.j 0.50497466+0.j 0.50604433+0.j\n",
      " 0.56116397+0.j 0.50865839+0.j 0.55955389+0.j 0.50813492+0.j\n",
      " 0.50813343+0.j 0.60519354+0.j 0.56116842+0.j 0.50865692+0.j\n",
      " 0.55955713+0.j 0.50813305+0.j 0.55955843+0.j 0.50865405+0.j\n",
      " 0.56117107+0.j 0.50813416+0.j 0.60519281+0.j 0.56116514+0.j\n",
      " 0.50865709+0.j 0.55955473+0.j]\n",
      "(38,)\n",
      "[-0.00760535+0.j  0.00305141+0.j -0.0076024 +0.j -0.0076116 +0.j\n",
      "  0.00305604+0.j -0.00810044+0.j  0.00305707+0.j -0.00991945+0.j\n",
      "  0.00361996+0.j -0.00761041+0.j  0.00361448+0.j -0.00991651+0.j\n",
      "  0.00305595+0.j  0.00360415+0.j -0.00991314+0.j  0.00305252+0.j\n",
      " -0.00809764+0.j  0.00360846+0.j -0.0099166 +0.j  0.00305512+0.j\n",
      "  0.01409971+0.j -0.01727051+0.j  0.01707112+0.j -0.01621175+0.j\n",
      " -0.01620899+0.j  0.03138911+0.j  0.01409232+0.j -0.0172675 +0.j\n",
      "  0.0170641 +0.j -0.01620777+0.j  0.01706257+0.j -0.01726174+0.j\n",
      "  0.01408684+0.j -0.01620892+0.j  0.0313912 +0.j  0.01409872+0.j\n",
      " -0.01726866+0.j  0.01706877+0.j]\n",
      "evals spin up: [-5.02072  -4.73804  -4.10986  -4.0725   -3.96676  -3.37006  -3.14256\n",
      " -2.92308  -2.91951  -2.61403  -2.56644  -1.95311  -1.94406  -1.94218\n",
      " -1.93544  -1.7623   -1.66975  -0.851487 -0.205621 -0.205613  0.53796\n",
      "  1.3588    1.45607   1.64778   1.65628   1.65833   1.66454   2.26411\n",
      "  2.31691   2.60744   2.60804   2.86033   3.05211   3.67545   3.78645\n",
      "  3.81294   4.45375   4.74584 ]\n",
      "evals spin down: [-4.99584  -4.70375  -4.06294  -4.03645  -3.92545  -3.30211  -3.11033\n",
      " -2.85804  -2.85744  -2.56691  -2.51411  -1.91454  -1.90833  -1.90628\n",
      " -1.89778  -1.70607  -1.6088   -0.787959 -0.044387 -0.044379  0.60149\n",
      "  1.41975   1.5123    1.68544   1.69218   1.69406   1.70311   2.31644\n",
      "  2.36403   2.66951   2.67308   2.89256   3.12006   3.71676   3.8225\n",
      "  3.85986   4.48804   4.77072 ]\n"
     ]
    }
   ],
   "source": [
    "f = open(\"../sorted_ev_ev.txt\",\"r\")\n",
    "#print(f.readline())\n",
    "\n",
    "chemical_potential = 0.625\n",
    "num_lines = sum(1 for line in open('../sorted_ev_ev.txt', \"r\"))\n",
    "print(num_lines)\n",
    "num_values_evecs = int(num_lines / 2)\n",
    "\n",
    "evals = np.zeros(num_lines, dtype=float)\n",
    "evecs_shape = (num_lines, num_values_evecs)\n",
    "evecs = np.zeros(evecs_shape, dtype=complex)\n",
    "\n",
    "total_spin_up = np.zeros(int(num_lines/2), dtype=float)\n",
    "total_spin_down = np.zeros(int(num_lines/2), dtype=float)\n",
    "up_spins = 0\n",
    "down_spins = 0\n",
    "\n",
    "evals_up = np.zeros(num_values_evecs, dtype=float)\n",
    "evals_down = np.zeros(num_values_evecs, dtype=float)\n",
    "counter_up = 0\n",
    "counter_down = 0\n",
    "    \n",
    "counter = 0\n",
    "word_count = 0\n",
    "\n",
    "for line in f:\n",
    "    #if(counter == 39):\n",
    "     #   print(\"Line: \" + str(counter))\n",
    "      #  print(line[:3])\n",
    "       # print(line)\n",
    "        \n",
    "    spin = line[:2]\n",
    "\n",
    "    line = line[3:]\n",
    "\n",
    "    splitted_line = line.split(' ')\n",
    "\n",
    "    evals[counter] = np.float64(splitted_line[0])\n",
    "    \n",
    "    if(spin == 'su'):\n",
    "        evals_up[counter_up] = evals[counter] - chemical_potential\n",
    "        counter_up = counter_up + 1\n",
    "    if(spin == 'sd'):\n",
    "        evals_down[counter_down] = evals[counter] - chemical_potential\n",
    "        counter_down = counter_down + 1\n",
    "    \n",
    "    #print(\"spin: \" + str(spin) + \"\\teval: \" + str(evals[counter]))\n",
    "    splitted_line.pop(0)\n",
    "    \n",
    "    x = ''\n",
    "    y = ''\n",
    "    y_turn = False\n",
    "    \n",
    "    for j in range(len(splitted_line)):    \n",
    "        for i in splitted_line[j]:\n",
    "            if(i == '(' or i == ' '):\n",
    "                continue\n",
    "            if(i != ',' and y_turn == False):\n",
    "                x += i\n",
    "            elif(i == ','):\n",
    "                y_turn = True\n",
    "                continue\n",
    "            elif(i != ')'):\n",
    "                y += i\n",
    "            else:\n",
    "                evecs[counter, word_count] = complex(float(x), float(y))\n",
    "                x = ''\n",
    "                y = ''\n",
    "                word_count = word_count + 1\n",
    "                y_turn = False\n",
    "\n",
    "\n",
    "    word_count = 0\n",
    "    counter = counter + 1\n",
    "    \n",
    "    if(spin == 'su'):\n",
    "        if(chemical_potential > evals[counter-1]):\n",
    "            up_spins = up_spins + 1\n",
    "            total_spin_up = np.add(total_spin_up, np.square(evecs[counter-1]))\n",
    "    if(spin == 'sd'):\n",
    "        if(chemical_potential > evals[counter-1]):\n",
    "            down_spins = down_spins + 1\n",
    "            total_spin_down = np.add(total_spin_down, np.square(evecs[counter-1]))\n",
    "            \n",
    "    if counter == num_lines-1:\n",
    "        break\n",
    "        \n",
    "print(\"total up spins: \" + str(up_spins))\n",
    "print(\"total down spins: \" + str(down_spins))\n",
    "print(total_spin_up)\n",
    "print(total_spin_down)\n",
    "spin_difference = ((total_spin_up - total_spin_down))\n",
    "print(np.shape(spin_difference))\n",
    "print(spin_difference)\n",
    "\n",
    "print(\"evals spin up: \" + str(evals_up))\n",
    "print(\"evals spin down: \" + str(evals_down))"
   ]
  },
  {
   "cell_type": "code",
   "execution_count": 17,
   "metadata": {},
   "outputs": [
    {
     "name": "stdout",
     "output_type": "stream",
     "text": [
      "77 38\n"
     ]
    }
   ],
   "source": [
    "ed = num_lines//2\n",
    "print(num_lines, ed)\n",
    "homo = ed-1"
   ]
  },
  {
   "cell_type": "code",
   "execution_count": 18,
   "metadata": {},
   "outputs": [
    {
     "data": {
      "image/png": "[encoded data removed]",
      "text/plain": [
       "<Figure size 432x288 with 1 Axes>"
      ]
     },
     "metadata": {},
     "output_type": "display_data"
    },
    {
     "data": {
      "image/png": "[encoded data removed]",
      "text/plain": [
       "<Figure size 432x288 with 1 Axes>"
      ]
     },
     "metadata": {},
     "output_type": "display_data"
    },
    {
     "data": {
      "image/png": "[encoded data removed]",
      "text/plain": [
       "<Figure size 432x288 with 1 Axes>"
      ]
     },
     "metadata": {},
     "output_type": "display_data"
    },
    {
     "name": "stdout",
     "output_type": "stream",
     "text": [
      "-0.226487\n",
      "-0.162959\n",
      "0.419379\n",
      "0.419387\n",
      "0.580613\n",
      "0.580621\n",
      "1.16296\n",
      "1.22649\n"
     ]
    }
   ],
   "source": [
    "plt.plot(evals[ed-4:ed+4], 'o')\n",
    "plt.show()\n",
    "\n",
    "plt.plot(evals[ed-12:ed+12], 'o')\n",
    "plt.show()\n",
    "\n",
    "plt.plot(evals[:], 'o')\n",
    "plt.show()\n",
    "\n",
    "\n",
    "for ev in evals[ed-4:ed+4]:\n",
    "    print(ev)"
   ]
  },
  {
   "cell_type": "code",
   "execution_count": 19,
   "metadata": {},
   "outputs": [],
   "source": [
    "def visualize_backbone(ax, atoms):\n",
    "    i_arr, j_arr = ase.neighborlist.neighbor_list('ij', atoms, 1.8)\n",
    "    for i, j in zip(i_arr, j_arr):\n",
    "        if i < j:\n",
    "            p1 = atoms.positions[i]\n",
    "            p2 = atoms.positions[j]\n",
    "            ax.plot([p1[0], p2[0]], [p1[1], p2[1]], 'k-', linewidth=3.0, solid_capstyle='round')\n",
    "            \n",
    "def visualize_evec(ax, atoms, evec):\n",
    "    for at, e in zip(atoms, evec):\n",
    "        p = at.position\n",
    "        mod = np.abs(e)\n",
    "        phase = np.angle(e)/np.pi\n",
    "        col = (1.0-phase, 0.0, phase)\n",
    "        circ = plt.Circle(p[:2], np.cbrt(mod), color=col, zorder=10)\n",
    "        ax.add_artist(circ)"
   ]
  },
  {
   "cell_type": "code",
   "execution_count": 20,
   "metadata": {},
   "outputs": [
    {
     "data": {
      "text/plain": [
       "(-8, 8)"
      ]
     },
     "execution_count": 20,
     "metadata": {},
     "output_type": "execute_result"
    },
    {
     "data": {
      "image/png": "[encoded data removed]",
      "text/plain": [
       "<Figure size 432x432 with 1 Axes>"
      ]
     },
     "metadata": {},
     "output_type": "display_data"
    }
   ],
   "source": [
    "fig=plt.figure(figsize=(6,6))\n",
    "ax = plt.gca()\n",
    "ax.set_aspect('equal')\n",
    "visualize_backbone(ax, geom)\n",
    "visualize_evec(ax, geom, spin_difference)\n",
    "plt.axis('off')\n",
    "plt.xlim([-5, 5])\n",
    "plt.ylim([-8, 8])\n",
    "\n",
    "#plt.savefig(\"./figures_clars/spin_diff.png\", dpi=300, bbox_inches='tight')"
   ]
  },
  {
   "cell_type": "code",
   "execution_count": 21,
   "metadata": {
    "scrolled": false
   },
   "outputs": [
    {
     "ename": "FileNotFoundError",
     "evalue": "[Errno 2] No such file or directory: '../figures/figures_test_hub/orb_36_-1.png'",
     "output_type": "error",
     "traceback": [
      "\u001b[0;31m---------------------------------------------------------------------------\u001b[0m",
      "\u001b[0;31mFileNotFoundError\u001b[0m                         Traceback (most recent call last)",
      "\u001b[0;32m<ipython-input-21-d7ff9d5bd71d>\u001b[0m in \u001b[0;36m<module>\u001b[0;34m()\u001b[0m\n\u001b[1;32m     12\u001b[0m     \u001b[0mplt\u001b[0m\u001b[0;34m.\u001b[0m\u001b[0mxlim\u001b[0m\u001b[0;34m(\u001b[0m\u001b[0;34m[\u001b[0m\u001b[0mxmin\u001b[0m\u001b[0;34m,\u001b[0m \u001b[0mxmax\u001b[0m\u001b[0;34m]\u001b[0m\u001b[0;34m)\u001b[0m\u001b[0;34m\u001b[0m\u001b[0;34m\u001b[0m\u001b[0m\n\u001b[1;32m     13\u001b[0m     \u001b[0mplt\u001b[0m\u001b[0;34m.\u001b[0m\u001b[0mtext\u001b[0m\u001b[0;34m(\u001b[0m\u001b[0mxmin\u001b[0m\u001b[0;34m+\u001b[0m\u001b[0;36m1.0\u001b[0m\u001b[0;34m,\u001b[0m \u001b[0mymin\u001b[0m\u001b[0;34m-\u001b[0m\u001b[0;36m2.6\u001b[0m\u001b[0;34m,\u001b[0m \u001b[0;34m\"E = %.2f eV\"\u001b[0m \u001b[0;34m%\u001b[0m \u001b[0mevals\u001b[0m\u001b[0;34m[\u001b[0m\u001b[0mind\u001b[0m\u001b[0;34m]\u001b[0m\u001b[0;34m,\u001b[0m \u001b[0mfontsize\u001b[0m\u001b[0;34m=\u001b[0m\u001b[0;36m20\u001b[0m\u001b[0;34m)\u001b[0m\u001b[0;34m\u001b[0m\u001b[0;34m\u001b[0m\u001b[0m\n\u001b[0;32m---> 14\u001b[0;31m     \u001b[0mplt\u001b[0m\u001b[0;34m.\u001b[0m\u001b[0msavefig\u001b[0m\u001b[0;34m(\u001b[0m\u001b[0;34m\"../figures/figures_test_hub/orb_%d_%d.png\"\u001b[0m \u001b[0;34m%\u001b[0m \u001b[0;34m(\u001b[0m\u001b[0mind\u001b[0m\u001b[0;34m,\u001b[0m \u001b[0mind\u001b[0m\u001b[0;34m-\u001b[0m\u001b[0mhomo\u001b[0m\u001b[0;34m)\u001b[0m\u001b[0;34m,\u001b[0m \u001b[0mdpi\u001b[0m\u001b[0;34m=\u001b[0m\u001b[0;36m300\u001b[0m\u001b[0;34m,\u001b[0m \u001b[0mbbox_inches\u001b[0m\u001b[0;34m=\u001b[0m\u001b[0;34m'tight'\u001b[0m\u001b[0;34m)\u001b[0m\u001b[0;34m\u001b[0m\u001b[0;34m\u001b[0m\u001b[0m\n\u001b[0m",
      "\u001b[0;32m/home/worreby/.local/lib/python3.6/site-packages/matplotlib/pyplot.py\u001b[0m in \u001b[0;36msavefig\u001b[0;34m(*args, **kwargs)\u001b[0m\n\u001b[1;32m    720\u001b[0m \u001b[0;32mdef\u001b[0m \u001b[0msavefig\u001b[0m\u001b[0;34m(\u001b[0m\u001b[0;34m*\u001b[0m\u001b[0margs\u001b[0m\u001b[0;34m,\u001b[0m \u001b[0;34m**\u001b[0m\u001b[0mkwargs\u001b[0m\u001b[0;34m)\u001b[0m\u001b[0;34m:\u001b[0m\u001b[0;34m\u001b[0m\u001b[0;34m\u001b[0m\u001b[0m\n\u001b[1;32m    721\u001b[0m     \u001b[0mfig\u001b[0m \u001b[0;34m=\u001b[0m \u001b[0mgcf\u001b[0m\u001b[0;34m(\u001b[0m\u001b[0;34m)\u001b[0m\u001b[0;34m\u001b[0m\u001b[0;34m\u001b[0m\u001b[0m\n\u001b[0;32m--> 722\u001b[0;31m     \u001b[0mres\u001b[0m \u001b[0;34m=\u001b[0m \u001b[0mfig\u001b[0m\u001b[0;34m.\u001b[0m\u001b[0msavefig\u001b[0m\u001b[0;34m(\u001b[0m\u001b[0;34m*\u001b[0m\u001b[0margs\u001b[0m\u001b[0;34m,\u001b[0m \u001b[0;34m**\u001b[0m\u001b[0mkwargs\u001b[0m\u001b[0;34m)\u001b[0m\u001b[0;34m\u001b[0m\u001b[0;34m\u001b[0m\u001b[0m\n\u001b[0m\u001b[1;32m    723\u001b[0m     \u001b[0mfig\u001b[0m\u001b[0;34m.\u001b[0m\u001b[0mcanvas\u001b[0m\u001b[0;34m.\u001b[0m\u001b[0mdraw_idle\u001b[0m\u001b[0;34m(\u001b[0m\u001b[0;34m)\u001b[0m   \u001b[0;31m# need this if 'transparent=True' to reset colors\u001b[0m\u001b[0;34m\u001b[0m\u001b[0;34m\u001b[0m\u001b[0m\n\u001b[1;32m    724\u001b[0m     \u001b[0;32mreturn\u001b[0m \u001b[0mres\u001b[0m\u001b[0;34m\u001b[0m\u001b[0;34m\u001b[0m\u001b[0m\n",
      "\u001b[0;32m/home/worreby/.local/lib/python3.6/site-packages/matplotlib/figure.py\u001b[0m in \u001b[0;36msavefig\u001b[0;34m(self, fname, transparent, **kwargs)\u001b[0m\n\u001b[1;32m   2178\u001b[0m             \u001b[0mself\u001b[0m\u001b[0;34m.\u001b[0m\u001b[0mpatch\u001b[0m\u001b[0;34m.\u001b[0m\u001b[0mset_visible\u001b[0m\u001b[0;34m(\u001b[0m\u001b[0mframeon\u001b[0m\u001b[0;34m)\u001b[0m\u001b[0;34m\u001b[0m\u001b[0;34m\u001b[0m\u001b[0m\n\u001b[1;32m   2179\u001b[0m \u001b[0;34m\u001b[0m\u001b[0m\n\u001b[0;32m-> 2180\u001b[0;31m         \u001b[0mself\u001b[0m\u001b[0;34m.\u001b[0m\u001b[0mcanvas\u001b[0m\u001b[0;34m.\u001b[0m\u001b[0mprint_figure\u001b[0m\u001b[0;34m(\u001b[0m\u001b[0mfname\u001b[0m\u001b[0;34m,\u001b[0m \u001b[0;34m**\u001b[0m\u001b[0mkwargs\u001b[0m\u001b[0;34m)\u001b[0m\u001b[0;34m\u001b[0m\u001b[0;34m\u001b[0m\u001b[0m\n\u001b[0m\u001b[1;32m   2181\u001b[0m \u001b[0;34m\u001b[0m\u001b[0m\n\u001b[1;32m   2182\u001b[0m         \u001b[0;32mif\u001b[0m \u001b[0mframeon\u001b[0m\u001b[0;34m:\u001b[0m\u001b[0;34m\u001b[0m\u001b[0;34m\u001b[0m\u001b[0m\n",
      "\u001b[0;32m/home/worreby/.local/lib/python3.6/site-packages/matplotlib/backend_bases.py\u001b[0m in \u001b[0;36mprint_figure\u001b[0;34m(self, filename, dpi, facecolor, edgecolor, orientation, format, bbox_inches, **kwargs)\u001b[0m\n\u001b[1;32m   2080\u001b[0m                     \u001b[0morientation\u001b[0m\u001b[0;34m=\u001b[0m\u001b[0morientation\u001b[0m\u001b[0;34m,\u001b[0m\u001b[0;34m\u001b[0m\u001b[0;34m\u001b[0m\u001b[0m\n\u001b[1;32m   2081\u001b[0m                     \u001b[0mbbox_inches_restore\u001b[0m\u001b[0;34m=\u001b[0m\u001b[0m_bbox_inches_restore\u001b[0m\u001b[0;34m,\u001b[0m\u001b[0;34m\u001b[0m\u001b[0;34m\u001b[0m\u001b[0m\n\u001b[0;32m-> 2082\u001b[0;31m                     **kwargs)\n\u001b[0m\u001b[1;32m   2083\u001b[0m             \u001b[0;32mfinally\u001b[0m\u001b[0;34m:\u001b[0m\u001b[0;34m\u001b[0m\u001b[0;34m\u001b[0m\u001b[0m\n\u001b[1;32m   2084\u001b[0m                 \u001b[0;32mif\u001b[0m \u001b[0mbbox_inches\u001b[0m \u001b[0;32mand\u001b[0m \u001b[0mrestore_bbox\u001b[0m\u001b[0;34m:\u001b[0m\u001b[0;34m\u001b[0m\u001b[0;34m\u001b[0m\u001b[0m\n",
      "\u001b[0;32m/home/worreby/.local/lib/python3.6/site-packages/matplotlib/backends/backend_agg.py\u001b[0m in \u001b[0;36mprint_png\u001b[0;34m(self, filename_or_obj, metadata, pil_kwargs, *args, **kwargs)\u001b[0m\n\u001b[1;32m    528\u001b[0m             \u001b[0mrenderer\u001b[0m \u001b[0;34m=\u001b[0m \u001b[0mself\u001b[0m\u001b[0;34m.\u001b[0m\u001b[0mget_renderer\u001b[0m\u001b[0;34m(\u001b[0m\u001b[0;34m)\u001b[0m\u001b[0;34m\u001b[0m\u001b[0;34m\u001b[0m\u001b[0m\n\u001b[1;32m    529\u001b[0m             \u001b[0;32mwith\u001b[0m \u001b[0mcbook\u001b[0m\u001b[0;34m.\u001b[0m\u001b[0m_setattr_cm\u001b[0m\u001b[0;34m(\u001b[0m\u001b[0mrenderer\u001b[0m\u001b[0;34m,\u001b[0m \u001b[0mdpi\u001b[0m\u001b[0;34m=\u001b[0m\u001b[0mself\u001b[0m\u001b[0;34m.\u001b[0m\u001b[0mfigure\u001b[0m\u001b[0;34m.\u001b[0m\u001b[0mdpi\u001b[0m\u001b[0;34m)\u001b[0m\u001b[0;34m,\u001b[0m\u001b[0;31m \u001b[0m\u001b[0;31m\\\u001b[0m\u001b[0;34m\u001b[0m\u001b[0;34m\u001b[0m\u001b[0m\n\u001b[0;32m--> 530\u001b[0;31m                     \u001b[0mcbook\u001b[0m\u001b[0;34m.\u001b[0m\u001b[0mopen_file_cm\u001b[0m\u001b[0;34m(\u001b[0m\u001b[0mfilename_or_obj\u001b[0m\u001b[0;34m,\u001b[0m \u001b[0;34m\"wb\"\u001b[0m\u001b[0;34m)\u001b[0m \u001b[0;32mas\u001b[0m \u001b[0mfh\u001b[0m\u001b[0;34m:\u001b[0m\u001b[0;34m\u001b[0m\u001b[0;34m\u001b[0m\u001b[0m\n\u001b[0m\u001b[1;32m    531\u001b[0m                 _png.write_png(renderer._renderer, fh,\n\u001b[1;32m    532\u001b[0m                                self.figure.dpi, metadata=metadata)\n",
      "\u001b[0;32m/usr/lib/python3.6/contextlib.py\u001b[0m in \u001b[0;36m__enter__\u001b[0;34m(self)\u001b[0m\n\u001b[1;32m     79\u001b[0m     \u001b[0;32mdef\u001b[0m \u001b[0m__enter__\u001b[0m\u001b[0;34m(\u001b[0m\u001b[0mself\u001b[0m\u001b[0;34m)\u001b[0m\u001b[0;34m:\u001b[0m\u001b[0;34m\u001b[0m\u001b[0;34m\u001b[0m\u001b[0m\n\u001b[1;32m     80\u001b[0m         \u001b[0;32mtry\u001b[0m\u001b[0;34m:\u001b[0m\u001b[0;34m\u001b[0m\u001b[0;34m\u001b[0m\u001b[0m\n\u001b[0;32m---> 81\u001b[0;31m             \u001b[0;32mreturn\u001b[0m \u001b[0mnext\u001b[0m\u001b[0;34m(\u001b[0m\u001b[0mself\u001b[0m\u001b[0;34m.\u001b[0m\u001b[0mgen\u001b[0m\u001b[0;34m)\u001b[0m\u001b[0;34m\u001b[0m\u001b[0;34m\u001b[0m\u001b[0m\n\u001b[0m\u001b[1;32m     82\u001b[0m         \u001b[0;32mexcept\u001b[0m \u001b[0mStopIteration\u001b[0m\u001b[0;34m:\u001b[0m\u001b[0;34m\u001b[0m\u001b[0;34m\u001b[0m\u001b[0m\n\u001b[1;32m     83\u001b[0m             \u001b[0;32mraise\u001b[0m \u001b[0mRuntimeError\u001b[0m\u001b[0;34m(\u001b[0m\u001b[0;34m\"generator didn't yield\"\u001b[0m\u001b[0;34m)\u001b[0m \u001b[0;32mfrom\u001b[0m \u001b[0;32mNone\u001b[0m\u001b[0;34m\u001b[0m\u001b[0;34m\u001b[0m\u001b[0m\n",
      "\u001b[0;32m/home/worreby/.local/lib/python3.6/site-packages/matplotlib/cbook/__init__.py\u001b[0m in \u001b[0;36mopen_file_cm\u001b[0;34m(path_or_file, mode, encoding)\u001b[0m\n\u001b[1;32m    445\u001b[0m \u001b[0;32mdef\u001b[0m \u001b[0mopen_file_cm\u001b[0m\u001b[0;34m(\u001b[0m\u001b[0mpath_or_file\u001b[0m\u001b[0;34m,\u001b[0m \u001b[0mmode\u001b[0m\u001b[0;34m=\u001b[0m\u001b[0;34m\"r\"\u001b[0m\u001b[0;34m,\u001b[0m \u001b[0mencoding\u001b[0m\u001b[0;34m=\u001b[0m\u001b[0;32mNone\u001b[0m\u001b[0;34m)\u001b[0m\u001b[0;34m:\u001b[0m\u001b[0;34m\u001b[0m\u001b[0;34m\u001b[0m\u001b[0m\n\u001b[1;32m    446\u001b[0m     \u001b[0;34mr\"\"\"Pass through file objects and context-manage `.PathLike`\\s.\"\"\"\u001b[0m\u001b[0;34m\u001b[0m\u001b[0;34m\u001b[0m\u001b[0m\n\u001b[0;32m--> 447\u001b[0;31m     \u001b[0mfh\u001b[0m\u001b[0;34m,\u001b[0m \u001b[0mopened\u001b[0m \u001b[0;34m=\u001b[0m \u001b[0mto_filehandle\u001b[0m\u001b[0;34m(\u001b[0m\u001b[0mpath_or_file\u001b[0m\u001b[0;34m,\u001b[0m \u001b[0mmode\u001b[0m\u001b[0;34m,\u001b[0m \u001b[0;32mTrue\u001b[0m\u001b[0;34m,\u001b[0m \u001b[0mencoding\u001b[0m\u001b[0;34m)\u001b[0m\u001b[0;34m\u001b[0m\u001b[0;34m\u001b[0m\u001b[0m\n\u001b[0m\u001b[1;32m    448\u001b[0m     \u001b[0;32mif\u001b[0m \u001b[0mopened\u001b[0m\u001b[0;34m:\u001b[0m\u001b[0;34m\u001b[0m\u001b[0;34m\u001b[0m\u001b[0m\n\u001b[1;32m    449\u001b[0m         \u001b[0;32mwith\u001b[0m \u001b[0mfh\u001b[0m\u001b[0;34m:\u001b[0m\u001b[0;34m\u001b[0m\u001b[0;34m\u001b[0m\u001b[0m\n",
      "\u001b[0;32m/home/worreby/.local/lib/python3.6/site-packages/matplotlib/cbook/__init__.py\u001b[0m in \u001b[0;36mto_filehandle\u001b[0;34m(fname, flag, return_opened, encoding)\u001b[0m\n\u001b[1;32m    430\u001b[0m             \u001b[0mfh\u001b[0m \u001b[0;34m=\u001b[0m \u001b[0mbz2\u001b[0m\u001b[0;34m.\u001b[0m\u001b[0mBZ2File\u001b[0m\u001b[0;34m(\u001b[0m\u001b[0mfname\u001b[0m\u001b[0;34m,\u001b[0m \u001b[0mflag\u001b[0m\u001b[0;34m)\u001b[0m\u001b[0;34m\u001b[0m\u001b[0;34m\u001b[0m\u001b[0m\n\u001b[1;32m    431\u001b[0m         \u001b[0;32melse\u001b[0m\u001b[0;34m:\u001b[0m\u001b[0;34m\u001b[0m\u001b[0;34m\u001b[0m\u001b[0m\n\u001b[0;32m--> 432\u001b[0;31m             \u001b[0mfh\u001b[0m \u001b[0;34m=\u001b[0m \u001b[0mopen\u001b[0m\u001b[0;34m(\u001b[0m\u001b[0mfname\u001b[0m\u001b[0;34m,\u001b[0m \u001b[0mflag\u001b[0m\u001b[0;34m,\u001b[0m \u001b[0mencoding\u001b[0m\u001b[0;34m=\u001b[0m\u001b[0mencoding\u001b[0m\u001b[0;34m)\u001b[0m\u001b[0;34m\u001b[0m\u001b[0;34m\u001b[0m\u001b[0m\n\u001b[0m\u001b[1;32m    433\u001b[0m         \u001b[0mopened\u001b[0m \u001b[0;34m=\u001b[0m \u001b[0;32mTrue\u001b[0m\u001b[0;34m\u001b[0m\u001b[0;34m\u001b[0m\u001b[0m\n\u001b[1;32m    434\u001b[0m     \u001b[0;32melif\u001b[0m \u001b[0mhasattr\u001b[0m\u001b[0;34m(\u001b[0m\u001b[0mfname\u001b[0m\u001b[0;34m,\u001b[0m \u001b[0;34m'seek'\u001b[0m\u001b[0;34m)\u001b[0m\u001b[0;34m:\u001b[0m\u001b[0;34m\u001b[0m\u001b[0;34m\u001b[0m\u001b[0m\n",
      "\u001b[0;31mFileNotFoundError\u001b[0m: [Errno 2] No such file or directory: '../figures/figures_test_hub/orb_36_-1.png'"
     ]
    },
    {
     "data": {
      "image/png": "[encoded data removed]",
      "text/plain": [
       "<Figure size 432x432 with 1 Axes>"
      ]
     },
     "metadata": {},
     "output_type": "display_data"
    }
   ],
   "source": [
    "for ind in range(ed-2,ed+2):\n",
    "    fig=plt.figure(figsize=(6,6))\n",
    "    ax = plt.gca()\n",
    "    ax.set_aspect('equal')\n",
    "    visualize_backbone(ax, geom)\n",
    "    visualize_evec(ax, geom, evecs[ind,:])\n",
    "    plt.axis('off')\n",
    "    xmin = np.min(geom.positions[:, 0])-0.7\n",
    "    xmax = np.max(geom.positions[:, 0])+0.7\n",
    "    ymin = np.min(geom.positions[:, 1])+1.0\n",
    "    ymax = np.max(geom.positions[:, 1])+1.0\n",
    "    plt.xlim([xmin, xmax])\n",
    "    plt.text(xmin+1.0, ymin-2.6, \"E = %.2f eV\" % evals[ind], fontsize=20)\n",
    "    plt.savefig(\"../figures/figures_test_hub/orb_%d_%d.png\" % (ind, ind-homo), dpi=300, bbox_inches='tight')"
   ]
  },
  {
   "cell_type": "code",
   "execution_count": 22,
   "metadata": {},
   "outputs": [
    {
     "name": "stdout",
     "output_type": "stream",
     "text": [
      "Down spin ev: -4.99584\n",
      "Down spin ev: -4.70375\n",
      "Down spin ev: -4.06294\n",
      "Down spin ev: -4.03645\n",
      "Down spin ev: -3.92545\n",
      "Down spin ev: -3.30211\n",
      "Down spin ev: -3.11033\n",
      "Down spin ev: -2.85804\n",
      "Down spin ev: -2.85744\n",
      "Down spin ev: -2.56691\n",
      "Down spin ev: -2.51411\n",
      "Down spin ev: -1.91454\n",
      "Down spin ev: -1.90833\n",
      "Down spin ev: -1.90628\n",
      "Down spin ev: -1.89778\n",
      "Down spin ev: -1.70607\n",
      "Down spin ev: -1.6088\n",
      "Down spin ev: -0.787959\n",
      "Down spin ev: -0.044386999999999954\n",
      "Down spin ev: -0.044378999999999946\n",
      "Up spin ev: -5.02072\n",
      "Up spin ev: -4.73804\n",
      "Up spin ev: -4.109859999999999\n",
      "Up spin ev: -4.0725\n",
      "Up spin ev: -3.96676\n",
      "Up spin ev: -3.37006\n",
      "Up spin ev: -3.14256\n",
      "Up spin ev: -2.92308\n",
      "Up spin ev: -2.91951\n",
      "Up spin ev: -2.61403\n",
      "Up spin ev: -2.56644\n",
      "Up spin ev: -1.95311\n",
      "Up spin ev: -1.94406\n",
      "Up spin ev: -1.94218\n",
      "Up spin ev: -1.93544\n",
      "Up spin ev: -1.7623\n",
      "Up spin ev: -1.66975\n",
      "Up spin ev: -0.851487\n",
      "Up spin ev: -0.205621\n",
      "Up spin ev: -0.205613\n"
     ]
    },
    {
     "data": {
      "image/png": "[encoded data removed]",
      "text/plain": [
       "<Figure size 432x864 with 2 Axes>"
      ]
     },
     "metadata": {},
     "output_type": "display_data"
    }
   ],
   "source": [
    "chemical_potential = 0.625\n",
    "past_ev = -100\n",
    "\n",
    "\n",
    "fig = plt.figure(figsize=(6, 12))\n",
    "plt.subplot(121)\n",
    "ax = plt.gca()\n",
    "for ev in evals_down:\n",
    "    col = 'blue'\n",
    "    if ev < 0.0:\n",
    "        col = 'red'\n",
    "        print(\"Down spin ev: \" + str(ev))\n",
    "    if(ev > past_ev + 0.001):\n",
    "        plt.plot([0.55, 0.9], [ev, ev], '-', color=col, lw=3.0, solid_capstyle='round')\n",
    "    else:\n",
    "        plt.plot([0.1, 0.45], [ev, ev], '-', color=col, lw=3.0, solid_capstyle='round')\n",
    "    past_ev = ev\n",
    "\n",
    "\n",
    "ax.get_xaxis().set_visible(False)\n",
    "ax.spines['right'].set_visible(False)\n",
    "ax.spines['top'].set_visible(False)\n",
    "ax.spines['bottom'].set_visible(False)\n",
    "plt.xlim(0.0, 1.0)\n",
    "plt.ylim(-1.8, 1.8)\n",
    "plt.ylabel(\"Energy (eV)\")\n",
    "\n",
    "###\n",
    "\n",
    "plt.subplot(122)\n",
    "ax = plt.gca()\n",
    "for ev in evals_up:\n",
    "    \n",
    "    col = 'blue'\n",
    "    if ev < 0.0:\n",
    "        col = 'red'\n",
    "        print(\"Up spin ev: \" + str(ev))\n",
    "    if(ev > past_ev + 0.001):\n",
    "        plt.plot([0.1, 0.45], [ev, ev], '-', color=col, lw=3.0, solid_capstyle='round')\n",
    "    else:\n",
    "        plt.plot([0.55, 0.9], [ev, ev], '-', color=col, lw=3.0, solid_capstyle='round')\n",
    "    past_ev = ev\n",
    "    \n",
    "ax.get_xaxis().set_visible(False)\n",
    "ax.spines['right'].set_visible(False)\n",
    "ax.spines['top'].set_visible(False)\n",
    "ax.spines['bottom'].set_visible(False)\n",
    "plt.xlim(0.0, 1.0)\n",
    "plt.ylim(-1.8, 1.8)\n",
    "#plt.ylabel(\"Energy (eV)\")\n",
    "\n",
    "plt.show()"
   ]
  },
  {
   "cell_type": "code",
   "execution_count": null,
   "metadata": {},
   "outputs": [],
   "source": [
    "fig = plt.figure(figsize=(2, 12))\n",
    "ax = plt.gca()\n",
    "for ev in evals[ed-ed:ed*2]:\n",
    "    col = 'blue'\n",
    "    if ev < 0.0:\n",
    "        col = 'red'\n",
    "    plt.plot([0.1, 0.9], [ev, ev], '-', color=col, lw=3.0, solid_capstyle='round')\n",
    "    \n",
    "ax.get_xaxis().set_visible(False)\n",
    "ax.spines['right'].set_visible(False)\n",
    "ax.spines['top'].set_visible(False)\n",
    "ax.spines['bottom'].set_visible(False)\n",
    "plt.xlim(0.0, 1.0)\n",
    "plt.ylim(-3.0, 3.0)\n",
    "plt.ylabel(\"Energy (eV)\")\n",
    "plt.savefig(\"../figures/figures_test_hub/levels.png\", dpi=300, bbox_inches='tight')"
   ]
  },
  {
   "cell_type": "code",
   "execution_count": null,
   "metadata": {},
   "outputs": [],
   "source": []
  },
  {
   "cell_type": "code",
   "execution_count": null,
   "metadata": {},
   "outputs": [],
   "source": []
  }
 ],
 "metadata": {
  "kernelspec": {
   "display_name": "Python 3",
   "language": "python",
   "name": "python3"
  },
  "language_info": {
   "codemirror_mode": {
    "name": "ipython",
    "version": 3
   },
   "file_extension": ".py",
   "mimetype": "text/x-python",
   "name": "python",
   "nbconvert_exporter": "python",
   "pygments_lexer": "ipython3",
   "version": "3.6.8"
  }
 },
 "nbformat": 4,
 "nbformat_minor": 2
}
