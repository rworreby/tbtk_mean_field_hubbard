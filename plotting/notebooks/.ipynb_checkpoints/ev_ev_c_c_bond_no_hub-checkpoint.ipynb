{
 "cells": [
  {
   "cell_type": "code",
   "execution_count": 1,
   "metadata": {},
   "outputs": [],
   "source": [
    "from pythtb import * # import TB model class\n",
    "import numpy as np\n",
    "\n",
    "import matplotlib.pyplot as plt\n",
    "\n",
    "import ase\n",
    "import ase.io\n",
    "import ase.neighborlist\n",
    "import ase.visualize.plot"
   ]
  },
  {
   "cell_type": "code",
   "execution_count": 2,
   "metadata": {},
   "outputs": [],
   "source": [
    "geom = ase.io.read(\"./c_c_test.xyz\")\n",
    "lat = [\n",
    "    [1.0,0.0],\n",
    "    [0.0,1.0]\n",
    "]\n",
    "geom.center(about=0.0)\n",
    "orb = []\n",
    "for at in geom:\n",
    "    orb.append(at.position[:2])"
   ]
  },
  {
   "cell_type": "code",
   "execution_count": null,
   "metadata": {},
   "outputs": [],
   "source": []
  },
  {
   "cell_type": "code",
   "execution_count": 3,
   "metadata": {
    "scrolled": true
   },
   "outputs": [
    {
     "name": "stdout",
     "output_type": "stream",
     "text": [
      "[[-0.707107+0.j -0.      +0.j -0.707107+0.j -0.      +0.j]\n",
      " [-0.      +0.j -0.707107+0.j -0.      +0.j -0.707107+0.j]\n",
      " [ 0.      +0.j -0.707107+0.j  0.      +0.j  0.707107+0.j]\n",
      " [-0.707107+0.j  0.      +0.j  0.707107+0.j  0.      +0.j]]\n"
     ]
    }
   ],
   "source": [
    "f = open(\"no_hub.txt\",\"r\")\n",
    "#print(f.readline())\n",
    "\n",
    "\n",
    "num_lines = sum(1 for line in open('no_hub.txt', \"r\"))\n",
    "#print(num_lines)\n",
    "\n",
    "\n",
    "evals = np.zeros(num_lines, dtype=float)\n",
    "evecs_shape = (num_lines, num_lines)\n",
    "evecs = np.zeros(evecs_shape, dtype=complex)\n",
    "\n",
    "counter = 0\n",
    "word_count = 0\n",
    "for line in f:\n",
    "    #print(line)\n",
    "    splitted_line = line.split(' ')\n",
    "\n",
    "    evals[counter] = np.float64(splitted_line[0])\n",
    "    splitted_line.pop(0)\n",
    "\n",
    "    x = ''\n",
    "    y = ''\n",
    "    y_turn = False\n",
    "    for i in splitted_line[0]:\n",
    "        if(i == '(' or i == ' '):\n",
    "            continue\n",
    "        if(i != ',' and y_turn == False):\n",
    "            x += i\n",
    "        elif(i == ','):\n",
    "            y_turn = True\n",
    "            continue\n",
    "        elif(i != ')'):\n",
    "            y += i\n",
    "        else:\n",
    "            \n",
    "            evecs[counter, word_count] = complex(float(x), float(y))\n",
    "            x = ''\n",
    "            y = ''\n",
    "            word_count = word_count + 1\n",
    "            y_turn = False\n",
    "\n",
    "    \n",
    "    counter = counter + 1\n",
    "    word_count = 0\n",
    "    \n",
    "print(evecs)"
   ]
  },
  {
   "cell_type": "code",
   "execution_count": 4,
   "metadata": {},
   "outputs": [
    {
     "name": "stdout",
     "output_type": "stream",
     "text": [
      "4 2\n"
     ]
    }
   ],
   "source": [
    "ed = num_lines//2\n",
    "print(num_lines, ed)\n",
    "homo = ed-1"
   ]
  },
  {
   "cell_type": "code",
   "execution_count": 5,
   "metadata": {},
   "outputs": [
    {
     "data": {
      "image/png": "[encoded data removed]",
      "text/plain": [
       "<Figure size 432x288 with 1 Axes>"
      ]
     },
     "metadata": {
      "needs_background": "light"
     },
     "output_type": "display_data"
    },
    {
     "name": "stdout",
     "output_type": "stream",
     "text": [
      "-1.8\n",
      "-1.8\n",
      "1.8\n",
      "1.8\n"
     ]
    }
   ],
   "source": [
    "plt.plot(evals, 'o')\n",
    "plt.show()\n",
    "for ev in evals:\n",
    "    print(ev)"
   ]
  },
  {
   "cell_type": "code",
   "execution_count": 6,
   "metadata": {},
   "outputs": [],
   "source": [
    "def visualize_backbone(ax, atoms):\n",
    "    i_arr, j_arr = ase.neighborlist.neighbor_list('ij', atoms, 1.8)\n",
    "    for i, j in zip(i_arr, j_arr):\n",
    "        if i < j:\n",
    "            p1 = atoms.positions[i]\n",
    "            p2 = atoms.positions[j]\n",
    "            ax.plot([p1[0], p2[0]], [p1[1], p2[1]], 'k-', linewidth=3.0, solid_capstyle='round')\n",
    "            \n",
    "def visualize_evec(ax, atoms, evec):\n",
    "    for at, e in zip(atoms, evec):\n",
    "        p = at.position\n",
    "        mod = np.abs(e)\n",
    "        phase = np.angle(e)/np.pi\n",
    "        col = (1.0-phase, 0.0, phase)\n",
    "        circ = plt.Circle(p[:2], mod, color=col, zorder=10)\n",
    "        ax.add_artist(circ)"
   ]
  },
  {
   "cell_type": "code",
   "execution_count": 7,
   "metadata": {
    "scrolled": true
   },
   "outputs": [
    {
     "data": {
      "image/png": "[encoded data removed]",
      "text/plain": [
       "<Figure size 432x432 with 1 Axes>"
      ]
     },
     "metadata": {
      "needs_background": "light"
     },
     "output_type": "display_data"
    },
    {
     "data": {
      "image/png": "[encoded data removed]",
      "text/plain": [
       "<Figure size 432x432 with 1 Axes>"
      ]
     },
     "metadata": {
      "needs_background": "light"
     },
     "output_type": "display_data"
    },
    {
     "data": {
      "image/png": "[encoded data removed]",
      "text/plain": [
       "<Figure size 432x432 with 1 Axes>"
      ]
     },
     "metadata": {
      "needs_background": "light"
     },
     "output_type": "display_data"
    },
    {
     "data": {
      "image/png": "[encoded data removed]",
      "text/plain": [
       "<Figure size 432x432 with 1 Axes>"
      ]
     },
     "metadata": {
      "needs_background": "light"
     },
     "output_type": "display_data"
    }
   ],
   "source": [
    "for ind in range(ed-2, ed+2):\n",
    "    fig=plt.figure(figsize=(6,6))\n",
    "    ax = plt.gca()\n",
    "    ax.set_aspect('equal')\n",
    "    visualize_backbone(ax, geom)\n",
    "    visualize_evec(ax, geom, evecs[ind,:])\n",
    "    plt.axis('off')\n",
    "    xmin = np.min(geom.positions[:, 0])-0.7\n",
    "    xmax = np.max(geom.positions[:, 0])+0.7\n",
    "    ymin = np.min(geom.positions[:, 1])+0.2\n",
    "    ymax = np.max(geom.positions[:, 1])+0.2\n",
    "    plt.xlim([xmin, xmax])\n",
    "    plt.text(xmin+1.0, ymin-1.6, \"E = %.2f eV\" % evals[ind], fontsize=20)\n",
    "    plt.savefig(\"./figures_hub/orb_%d_%d.png\" % (ind, ind-homo), dpi=300, bbox_inches='tight')"
   ]
  },
  {
   "cell_type": "code",
   "execution_count": 8,
   "metadata": {},
   "outputs": [
    {
     "data": {
      "image/png": "[encoded data removed]",
      "text/plain": [
       "<Figure size 144x864 with 1 Axes>"
      ]
     },
     "metadata": {
      "needs_background": "light"
     },
     "output_type": "display_data"
    }
   ],
   "source": [
    "fig = plt.figure(figsize=(2, 12))\n",
    "ax = plt.gca()\n",
    "for ev in evals:\n",
    "    col = 'blue'\n",
    "    if ev < 0.0:\n",
    "        col = 'red'\n",
    "    plt.plot([0.1, 0.9], [ev, ev], '-', color=col, lw=3.0, solid_capstyle='round')\n",
    "    \n",
    "ax.get_xaxis().set_visible(False)\n",
    "ax.spines['right'].set_visible(False)\n",
    "ax.spines['top'].set_visible(False)\n",
    "ax.spines['bottom'].set_visible(False)\n",
    "plt.xlim(0.0, 1.0)\n",
    "plt.ylim(-5.0, 5.0)\n",
    "plt.ylabel(\"Energy (eV)\")\n",
    "plt.savefig(\"./levels.png\", dpi=300, bbox_inches='tight')"
   ]
  },
  {
   "cell_type": "code",
   "execution_count": null,
   "metadata": {},
   "outputs": [],
   "source": []
  }
 ],
 "metadata": {
  "kernelspec": {
   "display_name": "Python 3",
   "language": "python",
   "name": "python3"
  },
  "language_info": {
   "codemirror_mode": {
    "name": "ipython",
    "version": 3
   },
   "file_extension": ".py",
   "mimetype": "text/x-python",
   "name": "python",
   "nbconvert_exporter": "python",
   "pygments_lexer": "ipython3",
   "version": "3.6.8"
  }
 },
 "nbformat": 4,
 "nbformat_minor": 2
}
