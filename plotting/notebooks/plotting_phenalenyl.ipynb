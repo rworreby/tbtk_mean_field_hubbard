{
 "cells": [
  {
   "cell_type": "code",
   "execution_count": 1,
   "metadata": {},
   "outputs": [],
   "source": [
    "from pythtb import * # import TB model class\n",
    "import numpy as np\n",
    "\n",
    "import matplotlib.pyplot as plt\n",
    "\n",
    "import ase\n",
    "import ase.io\n",
    "import ase.neighborlist\n",
    "import ase.visualize.plot"
   ]
  },
  {
   "cell_type": "code",
   "execution_count": 2,
   "metadata": {},
   "outputs": [],
   "source": [
    "geom = ase.io.read(\"../xyz_files/phenalenyl.xyz\")\n",
    "lat = [\n",
    "    [1.0,0.0],\n",
    "    [0.0,1.0]\n",
    "]\n",
    "geom.center(about=0.0)\n",
    "orb = []\n",
    "\n",
    "for at in geom:\n",
    "    orb.append(at.position[:2])"
   ]
  },
  {
   "cell_type": "code",
   "execution_count": null,
   "metadata": {},
   "outputs": [],
   "source": []
  },
  {
   "cell_type": "code",
   "execution_count": 3,
   "metadata": {
    "scrolled": true
   },
   "outputs": [
    {
     "name": "stdout",
     "output_type": "stream",
     "text": [
      "26\n",
      "total up spins: 7\n",
      "total down spins: 7\n",
      "[0.490324  +0.j 0.59463197+0.j 0.48740595+0.j 0.59463434+0.j\n",
      " 0.49031951+0.j 0.49901666+0.j 0.59463802+0.j 0.48740063+0.j\n",
      " 0.59462874+0.j 0.48740815+0.j 0.5946323 +0.j 0.49032095+0.j\n",
      " 0.5946389 +0.j]\n",
      "[0.49030193+0.j 0.59465247+0.j 0.487382  +0.j 0.59465001+0.j\n",
      " 0.49030607+0.j 0.4990372 +0.j 0.59464579+0.j 0.48738725+0.j\n",
      " 0.5946553 +0.j 0.48738001+0.j 0.59465207+0.j 0.4903057 +0.j\n",
      " 0.5946448 +0.j]\n",
      "(13,)\n",
      "[-2.2066868e-05+0.j  2.0496987e-05+0.j -2.3946247e-05+0.j\n",
      "  1.5667905e-05+0.j -1.3432636e-05+0.j  2.0544774e-05+0.j\n",
      "  7.7712640e-06+0.j -1.3375864e-05+0.j  2.6553884e-05+0.j\n",
      " -2.8132356e-05+0.j  1.9777531e-05+0.j -1.5245642e-05+0.j\n",
      "  5.9033290e-06+0.j]\n",
      "evals spin up: [-2.50734  -1.80734  -1.80734  -1.075572 -1.075569 -1.049698 -0.111407\n",
      "  0.92576   0.92576   0.95      1.65753   1.65753   2.39268 ]\n",
      "evals spin down: [-2.50734  -1.80734  -1.80734  -1.075569 -1.075565 -1.049696 -0.111452\n",
      "  0.92577   0.92577   0.95001   1.65754   1.65754   2.39268 ]\n"
     ]
    }
   ],
   "source": [
    "f = open(\"../phenalenyl_ev.txt\",\"r\")\n",
    "#print(f.readline())\n",
    "\n",
    "chemical_potential = 0.625\n",
    "num_lines = sum(1 for line in open('../phenalenyl_ev.txt', \"r\"))\n",
    "print(num_lines)\n",
    "num_values_evecs = int(num_lines / 2)\n",
    "\n",
    "evals = np.zeros(num_lines, dtype=float)\n",
    "evecs_shape = (num_lines, num_values_evecs)\n",
    "evecs = np.zeros(evecs_shape, dtype=complex)\n",
    "\n",
    "total_spin_up = np.zeros(int(num_lines/2), dtype=float)\n",
    "total_spin_down = np.zeros(int(num_lines/2), dtype=float)\n",
    "up_spins = 0\n",
    "down_spins = 0\n",
    "\n",
    "\n",
    "evals_up = np.zeros(num_values_evecs, dtype=float)\n",
    "evals_down = np.zeros(num_values_evecs, dtype=float)\n",
    "counter_up = 0\n",
    "counter_down = 0\n",
    "    \n",
    "    \n",
    "counter = 0\n",
    "word_count = 0\n",
    "for line in f:\n",
    "    #if(counter == 39):\n",
    "     #   print(\"Line: \" + str(counter))\n",
    "      #  print(line[:3])\n",
    "       # print(line)\n",
    "        \n",
    "    spin = line[:2]\n",
    "\n",
    "    line = line[3:]\n",
    "\n",
    "    splitted_line = line.split(' ')\n",
    "\n",
    "    evals[counter] = np.float64(splitted_line[0])\n",
    "    \n",
    "    if(spin == 'su'):\n",
    "        evals_up[counter_up] = evals[counter] - chemical_potential\n",
    "        counter_up = counter_up + 1\n",
    "    if(spin == 'sd'):\n",
    "        evals_down[counter_down] = evals[counter] - chemical_potential\n",
    "        counter_down = counter_down + 1\n",
    "    \n",
    "    #print(\"spin: \" + str(spin) + \"\\teval: \" + str(evals[counter]))\n",
    "    splitted_line.pop(0)\n",
    "    \n",
    "    x = ''\n",
    "    y = ''\n",
    "    y_turn = False\n",
    "    \n",
    "    for j in range(len(splitted_line)):    \n",
    "        for i in splitted_line[j]:\n",
    "            if(i == '(' or i == ' '):\n",
    "                continue\n",
    "            if(i != ',' and y_turn == False):\n",
    "                x += i\n",
    "            elif(i == ','):\n",
    "                y_turn = True\n",
    "                continue\n",
    "            elif(i != ')'):\n",
    "                y += i\n",
    "            else:\n",
    "                evecs[counter, word_count] = complex(float(x), float(y))\n",
    "                x = ''\n",
    "                y = ''\n",
    "                word_count = word_count + 1\n",
    "                y_turn = False\n",
    "\n",
    "\n",
    "    word_count = 0\n",
    "    counter = counter + 1\n",
    "    \n",
    "    if(spin == 'su'):\n",
    "        if(chemical_potential > evals[counter-1]):\n",
    "            up_spins = up_spins + 1\n",
    "            total_spin_up = np.add(total_spin_up, np.square(evecs[counter-1]))\n",
    "    if(spin == 'sd'):\n",
    "        if(chemical_potential > evals[counter-1]):\n",
    "            down_spins = down_spins + 1\n",
    "            total_spin_down = np.add(total_spin_down, np.square(evecs[counter-1]))\n",
    "\n",
    "print(\"total up spins: \" + str(up_spins))\n",
    "print(\"total down spins: \" + str(down_spins))\n",
    "print(total_spin_up)\n",
    "print(total_spin_down)\n",
    "spin_difference = ((total_spin_down - total_spin_up))\n",
    "print(np.shape(spin_difference))\n",
    "print(spin_difference)\n",
    "\n",
    "print(\"evals spin up: \" + str(evals_up))\n",
    "print(\"evals spin down: \" + str(evals_down))"
   ]
  },
  {
   "cell_type": "code",
   "execution_count": 4,
   "metadata": {},
   "outputs": [
    {
     "name": "stdout",
     "output_type": "stream",
     "text": [
      "26 13\n"
     ]
    }
   ],
   "source": [
    "ed = num_lines//2\n",
    "print(num_lines, ed)\n",
    "homo = ed-1"
   ]
  },
  {
   "cell_type": "code",
   "execution_count": 5,
   "metadata": {},
   "outputs": [
    {
     "data": {
      "image/png": "[encoded data removed]",
      "text/plain": [
       "<Figure size 432x288 with 1 Axes>"
      ]
     },
     "metadata": {
      "needs_background": "light"
     },
     "output_type": "display_data"
    },
    {
     "data": {
      "image/png": "[encoded data removed]",
      "text/plain": [
       "<Figure size 432x288 with 1 Axes>"
      ]
     },
     "metadata": {
      "needs_background": "light"
     },
     "output_type": "display_data"
    },
    {
     "data": {
      "image/png": "[encoded data removed]",
      "text/plain": [
       "<Figure size 432x288 with 1 Axes>"
      ]
     },
     "metadata": {
      "needs_background": "light"
     },
     "output_type": "display_data"
    },
    {
     "name": "stdout",
     "output_type": "stream",
     "text": [
      "-0.450565\n",
      "-0.424698\n",
      "-0.424696\n",
      "0.513548\n",
      "0.513593\n",
      "1.55076\n",
      "1.55076\n",
      "1.55077\n"
     ]
    }
   ],
   "source": [
    "plt.plot(evals[ed-4:ed+4], 'o')\n",
    "plt.show()\n",
    "\n",
    "plt.plot(evals[ed-12:ed+12], 'o')\n",
    "plt.show()\n",
    "\n",
    "plt.plot(evals[:], 'o')\n",
    "plt.show()\n",
    "\n",
    "\n",
    "for ev in evals[ed-4:ed+4]:\n",
    "    print(ev)\n",
    "\n"
   ]
  },
  {
   "cell_type": "code",
   "execution_count": 6,
   "metadata": {},
   "outputs": [],
   "source": [
    "def visualize_backbone(ax, atoms):\n",
    "    i_arr, j_arr = ase.neighborlist.neighbor_list('ij', atoms, 1.8)\n",
    "    for i, j in zip(i_arr, j_arr):\n",
    "        if i < j:\n",
    "            p1 = atoms.positions[i]\n",
    "            p2 = atoms.positions[j]\n",
    "            ax.plot([p1[0], p2[0]], [p1[1], p2[1]], 'k-', linewidth=3.0, solid_capstyle='round')\n",
    "            \n",
    "def visualize_evec(ax, atoms, evec):\n",
    "    for at, e in zip(atoms, evec):\n",
    "        p = at.position\n",
    "        mod = np.abs(e)\n",
    "        phase = np.angle(e)/np.pi\n",
    "        col = (1.0-phase, 0.0, phase)\n",
    "        circ = plt.Circle(p[:2], np.cbrt(mod), color=col, zorder=10)\n",
    "        ax.add_artist(circ)"
   ]
  },
  {
   "cell_type": "code",
   "execution_count": 7,
   "metadata": {},
   "outputs": [
    {
     "data": {
      "image/png": "[encoded data removed]",
      "text/plain": [
       "<Figure size 432x432 with 1 Axes>"
      ]
     },
     "metadata": {
      "needs_background": "light"
     },
     "output_type": "display_data"
    }
   ],
   "source": [
    "fig=plt.figure(figsize=(6,6))\n",
    "ax = plt.gca()\n",
    "ax.set_aspect('equal')\n",
    "visualize_backbone(ax, geom)\n",
    "visualize_evec(ax, geom, spin_difference)\n",
    "plt.axis('off')\n",
    "plt.xlim([-5, 5])\n",
    "plt.ylim([-5, 5])\n",
    "\n",
    "plt.savefig(\"../figures/figures_phenalenyl/spin_diff.png\", dpi=300, bbox_inches='tight')"
   ]
  },
  {
   "cell_type": "markdown",
   "metadata": {
    "scrolled": true
   },
   "source": []
  },
  {
   "cell_type": "code",
   "execution_count": 8,
   "metadata": {},
   "outputs": [
    {
     "data": {
      "image/png": "[encoded data removed]",
      "text/plain": [
       "<Figure size 432x432 with 1 Axes>"
      ]
     },
     "metadata": {
      "needs_background": "light"
     },
     "output_type": "display_data"
    },
    {
     "data": {
      "image/png": "[encoded data removed]",
      "text/plain": [
       "<Figure size 432x432 with 1 Axes>"
      ]
     },
     "metadata": {
      "needs_background": "light"
     },
     "output_type": "display_data"
    },
    {
     "data": {
      "image/png": "[encoded data removed]",
      "text/plain": [
       "<Figure size 432x432 with 1 Axes>"
      ]
     },
     "metadata": {
      "needs_background": "light"
     },
     "output_type": "display_data"
    },
    {
     "data": {
      "image/png": "[encoded data removed]",
      "text/plain": [
       "<Figure size 432x432 with 1 Axes>"
      ]
     },
     "metadata": {
      "needs_background": "light"
     },
     "output_type": "display_data"
    }
   ],
   "source": [
    "for ind in range(ed-2,ed+2):\n",
    "    fig=plt.figure(figsize=(6,6))\n",
    "    ax = plt.gca()\n",
    "    ax.set_aspect('equal')\n",
    "    visualize_backbone(ax, geom)\n",
    "    visualize_evec(ax, geom, evecs[ind,:])\n",
    "    plt.axis('off')\n",
    "    xmin = np.min(geom.positions[:, 0])-2.0\n",
    "    xmax = np.max(geom.positions[:, 0])+2.0\n",
    "    ymin = np.min(geom.positions[:, 1])-2.0\n",
    "    ymax = np.max(geom.positions[:, 1])+4.0\n",
    "    plt.xlim([xmin, xmax])\n",
    "    plt.xlim([ymin, ymax])\n",
    "    plt.text(xmin+2.0, ymin, \"E = %.2f eV\" % evals[ind], fontsize=20)\n",
    "    plt.savefig(\"../figures/figures_phenalenyl/orb_%d_%d.png\" % (ind, ind-homo), dpi=300, bbox_inches='tight')"
   ]
  },
  {
   "cell_type": "code",
   "execution_count": 9,
   "metadata": {},
   "outputs": [
    {
     "name": "stdout",
     "output_type": "stream",
     "text": [
      "Down spin ev: -2.50734\n",
      "Down spin ev: -1.80734\n",
      "Down spin ev: -1.80734\n",
      "Down spin ev: -1.075569\n",
      "Down spin ev: -1.075565\n",
      "Down spin ev: -1.049696\n",
      "Down spin ev: -0.111452\n",
      "Up spin ev: -2.50734\n",
      "Up spin ev: -1.80734\n",
      "Up spin ev: -1.80734\n",
      "Up spin ev: -1.075572\n",
      "Up spin ev: -1.075569\n",
      "Up spin ev: -1.049698\n",
      "Up spin ev: -0.11140700000000003\n"
     ]
    },
    {
     "data": {
      "image/png": "[encoded data removed]",
      "text/plain": [
       "<Figure size 432x864 with 2 Axes>"
      ]
     },
     "metadata": {
      "needs_background": "light"
     },
     "output_type": "display_data"
    }
   ],
   "source": [
    "chemical_potential = 0.625\n",
    "past_ev = -100\n",
    "\n",
    "\n",
    "fig = plt.figure(figsize=(6, 12))\n",
    "plt.subplot(121)\n",
    "ax = plt.gca()\n",
    "for ev in evals_down:\n",
    "    col = 'blue'\n",
    "    if ev < 0.0:\n",
    "        col = 'red'\n",
    "        print(\"Down spin ev: \" + str(ev))\n",
    "    if(ev > past_ev + 0.001):\n",
    "        plt.plot([0.55, 0.9], [ev, ev], '-', color=col, lw=3.0, solid_capstyle='round')\n",
    "    else:\n",
    "        plt.plot([0.1, 0.45], [ev, ev], '-', color=col, lw=3.0, solid_capstyle='round')\n",
    "    past_ev = ev\n",
    "\n",
    "\n",
    "ax.get_xaxis().set_visible(False)\n",
    "ax.spines['right'].set_visible(False)\n",
    "ax.spines['top'].set_visible(False)\n",
    "ax.spines['bottom'].set_visible(False)\n",
    "plt.xlim(0.0, 1.0)\n",
    "plt.ylim(-1.8, 1.8)\n",
    "plt.ylabel(\"Energy (eV)\")\n",
    "\n",
    "###\n",
    "\n",
    "plt.subplot(122)\n",
    "ax = plt.gca()\n",
    "for ev in evals_up:\n",
    "    \n",
    "    col = 'blue'\n",
    "    if ev < 0.0:\n",
    "        col = 'red'\n",
    "        print(\"Up spin ev: \" + str(ev))\n",
    "    if(ev > past_ev + 0.005):\n",
    "        plt.plot([0.1, 0.45], [ev, ev], '-', color=col, lw=3.0, solid_capstyle='round')\n",
    "    else:\n",
    "        plt.plot([0.55, 0.9], [ev, ev], '-', color=col, lw=3.0, solid_capstyle='round')\n",
    "    past_ev = ev\n",
    "    \n",
    "ax.get_xaxis().set_visible(False)\n",
    "ax.spines['right'].set_visible(False)\n",
    "ax.spines['top'].set_visible(False)\n",
    "ax.spines['bottom'].set_visible(False)\n",
    "plt.xlim(0.0, 1.0)\n",
    "plt.ylim(-1.8, 1.8)\n",
    "#plt.ylabel(\"Energy (eV)\")\n",
    "\n",
    "plt.savefig(\"../figures/figures_phenalenyl/spin_eigenvalues.png\", dpi=300, bbox_inches='tight')\n",
    "\n"
   ]
  },
  {
   "cell_type": "code",
   "execution_count": 10,
   "metadata": {},
   "outputs": [
    {
     "data": {
      "text/plain": [
       "Text(0,0.5,'Energy (eV)')"
      ]
     },
     "execution_count": 10,
     "metadata": {},
     "output_type": "execute_result"
    },
    {
     "data": {
      "image/png": "[encoded data removed]",
      "text/plain": [
       "<Figure size 144x864 with 1 Axes>"
      ]
     },
     "metadata": {
      "needs_background": "light"
     },
     "output_type": "display_data"
    }
   ],
   "source": [
    "fig = plt.figure(figsize=(2, 12))\n",
    "ax = plt.gca()\n",
    "for ev in evals[ed-ed:ed*2]:\n",
    "    col = 'blue'\n",
    "    if ev < 0.0:\n",
    "        col = 'red'\n",
    "    plt.plot([0.1, 0.9], [ev, ev], '-', color=col, lw=3.0, solid_capstyle='round')\n",
    "    \n",
    "ax.get_xaxis().set_visible(False)\n",
    "ax.spines['right'].set_visible(False)\n",
    "ax.spines['top'].set_visible(False)\n",
    "ax.spines['bottom'].set_visible(False)\n",
    "plt.xlim(0.0, 1.0)\n",
    "plt.ylim(-3.0, 3.0)\n",
    "plt.ylabel(\"Energy (eV)\")\n",
    "#plt.savefig(\"../figures/figures_phenalenyl/levels.png\", dpi=300, bbox_inches='tight')"
   ]
  },
  {
   "cell_type": "code",
   "execution_count": null,
   "metadata": {},
   "outputs": [],
   "source": []
  },
  {
   "cell_type": "code",
   "execution_count": null,
   "metadata": {},
   "outputs": [],
   "source": []
  }
 ],
 "metadata": {
  "kernelspec": {
   "display_name": "Python 3",
   "language": "python",
   "name": "python3"
  },
  "language_info": {
   "codemirror_mode": {
    "name": "ipython",
    "version": 3
   },
   "file_extension": ".py",
   "mimetype": "text/x-python",
   "name": "python",
   "nbconvert_exporter": "python",
   "pygments_lexer": "ipython3",
   "version": "3.7.3"
  }
 },
 "nbformat": 4,
 "nbformat_minor": 2
}
